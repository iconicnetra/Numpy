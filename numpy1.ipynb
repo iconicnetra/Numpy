{
 "cells": [
  {
   "cell_type": "code",
   "execution_count": 3,
   "metadata": {},
   "outputs": [
    {
     "name": "stdout",
     "output_type": "stream",
     "text": [
      "[[1 2 3]\n",
      " [4 5 6]]\n"
     ]
    }
   ],
   "source": [
    "import numpy as np\n",
    "my_array = np.array([[1, 2, 3], [4, 5, 6]])\n",
    "print(my_array)"
   ]
  },
  {
   "cell_type": "code",
   "execution_count": 4,
   "metadata": {},
   "outputs": [
    {
     "name": "stdout",
     "output_type": "stream",
     "text": [
      "[[1 2 3]\n",
      " [3 4 5]\n",
      " [6 7 8]]\n"
     ]
    }
   ],
   "source": [
    "#Creating 2D numpy array\n",
    "matrix = np.array([[1, 2, 3], [3, 4, 5,], [6, 7, 8]], dtype=int)\n",
    "print(matrix)"
   ]
  },
  {
   "cell_type": "code",
   "execution_count": 5,
   "metadata": {},
   "outputs": [
    {
     "name": "stdout",
     "output_type": "stream",
     "text": [
      "[[1.2 3.4 5.6]\n",
      " [2.1 2.2 2.3]\n",
      " [3.4 3.5 3.6]]\n"
     ]
    }
   ],
   "source": [
    "#Creating Numpy with float elements\n",
    "\n",
    "array_float = np.array([[1.2, 3.4, 5.6], [2.1, 2.2, 2.3], [3.4, 3.5, 3.6]], dtype = float)\n",
    "print(array_float)"
   ]
  },
  {
   "cell_type": "code",
   "execution_count": 6,
   "metadata": {},
   "outputs": [
    {
     "name": "stdout",
     "output_type": "stream",
     "text": [
      "[[0. 0. 0.]\n",
      " [0. 0. 0.]]\n"
     ]
    }
   ],
   "source": [
    "#You can also create arrays with predefined values using functions like np.zeros(), np.ones(), np.full(), np.arange(), np.linspace(), etc. \n",
    "zeros = np.zeros((2, 3))\n",
    "print(zeros)"
   ]
  },
  {
   "cell_type": "code",
   "execution_count": 7,
   "metadata": {},
   "outputs": [
    {
     "name": "stdout",
     "output_type": "stream",
     "text": [
      "[[0. 0. 0. 0. 0.]\n",
      " [0. 0. 0. 0. 0.]\n",
      " [0. 0. 0. 0. 0.]\n",
      " [0. 0. 0. 0. 0.]]\n"
     ]
    }
   ],
   "source": [
    "zeros = np.zeros((4, 5))\n",
    "print(zeros)"
   ]
  },
  {
   "cell_type": "code",
   "execution_count": 8,
   "metadata": {},
   "outputs": [
    {
     "name": "stdout",
     "output_type": "stream",
     "text": [
      "[[1. 1.]\n",
      " [1. 1.]\n",
      " [1. 1.]]\n"
     ]
    }
   ],
   "source": [
    "#Creating an array of ones with shape (3, 2)\n",
    "ones = np.ones((3, 2))\n",
    "print(ones)"
   ]
  },
  {
   "cell_type": "code",
   "execution_count": 9,
   "metadata": {},
   "outputs": [
    {
     "name": "stdout",
     "output_type": "stream",
     "text": [
      "[[9 9]\n",
      " [9 9]]\n"
     ]
    }
   ],
   "source": [
    "#Creating an array of a constant value with shape (2, 2)\n",
    "constant = np.full((2, 2), 9)\n",
    "print(constant)"
   ]
  },
  {
   "cell_type": "code",
   "execution_count": 10,
   "metadata": {},
   "outputs": [
    {
     "name": "stdout",
     "output_type": "stream",
     "text": [
      "[0 1 2 3 4 5 6 7 8 9]\n"
     ]
    }
   ],
   "source": [
    "#Creating an array of evenely spaced values withing a range\n",
    "a = np.arange(10)\n",
    "print(a)"
   ]
  },
  {
   "cell_type": "code",
   "execution_count": 11,
   "metadata": {},
   "outputs": [
    {
     "name": "stdout",
     "output_type": "stream",
     "text": [
      "[ 0  1  2  3  4  5  6  7  8  9 10 11 12 13 14 15 16 17 18 19]\n"
     ]
    }
   ],
   "source": [
    "b = np.arange(20)\n",
    "print(b)"
   ]
  },
  {
   "cell_type": "code",
   "execution_count": 12,
   "metadata": {},
   "outputs": [
    {
     "name": "stdout",
     "output_type": "stream",
     "text": [
      "[5 6 7 8 9]\n",
      "[ 0  5 10 15 20 25 30 35 40 45]\n"
     ]
    }
   ],
   "source": [
    "#with STEPS\n",
    "c = np.arange(5, 10)\n",
    "print(c)\n",
    "\n",
    "d = np.arange(0, 50, 5)\n",
    "print(d)"
   ]
  },
  {
   "cell_type": "code",
   "execution_count": 13,
   "metadata": {},
   "outputs": [
    {
     "name": "stdout",
     "output_type": "stream",
     "text": [
      "[ 0.          0.20408163  0.40816327  0.6122449   0.81632653  1.02040816\n",
      "  1.2244898   1.42857143  1.63265306  1.83673469  2.04081633  2.24489796\n",
      "  2.44897959  2.65306122  2.85714286  3.06122449  3.26530612  3.46938776\n",
      "  3.67346939  3.87755102  4.08163265  4.28571429  4.48979592  4.69387755\n",
      "  4.89795918  5.10204082  5.30612245  5.51020408  5.71428571  5.91836735\n",
      "  6.12244898  6.32653061  6.53061224  6.73469388  6.93877551  7.14285714\n",
      "  7.34693878  7.55102041  7.75510204  7.95918367  8.16326531  8.36734694\n",
      "  8.57142857  8.7755102   8.97959184  9.18367347  9.3877551   9.59183673\n",
      "  9.79591837 10.        ]\n"
     ]
    }
   ],
   "source": [
    "#from zero to ten with default number of samples (50)\n",
    "e = np.linspace(0, 10)\n",
    "print(e)"
   ]
  },
  {
   "cell_type": "code",
   "execution_count": 14,
   "metadata": {},
   "outputs": [
    {
     "name": "stdout",
     "output_type": "stream",
     "text": [
      "[ 0.   2.5  5.   7.5 10. ]\n"
     ]
    }
   ],
   "source": [
    "#Number of samples (5)\n",
    "f = np.linspace(0, 10, num=5)\n",
    "print(f)"
   ]
  },
  {
   "cell_type": "code",
   "execution_count": 15,
   "metadata": {},
   "outputs": [
    {
     "name": "stdout",
     "output_type": "stream",
     "text": [
      "[ 0  5 11 16 22 27 33 38 44 50]\n"
     ]
    }
   ],
   "source": [
    "#Including the datatype\n",
    "g = np.linspace(0, 50, num=10, dtype=int)\n",
    "print(g)"
   ]
  },
  {
   "cell_type": "code",
   "execution_count": null,
   "metadata": {},
   "outputs": [],
   "source": [
    "#Operations with Numpy\n",
    "\n"
   ]
  },
  {
   "cell_type": "code",
   "execution_count": 1,
   "metadata": {},
   "outputs": [
    {
     "name": "stdout",
     "output_type": "stream",
     "text": [
      "[1 2 3 4 5]\n"
     ]
    }
   ],
   "source": [
    "#Creating One Dimensional List\n",
    "import numpy as np\n",
    "my_array1 = np.array([1, 2, 3, 4, 5], dtype=int)\n",
    "print(my_array1)"
   ]
  },
  {
   "cell_type": "code",
   "execution_count": 2,
   "metadata": {},
   "outputs": [
    {
     "name": "stdout",
     "output_type": "stream",
     "text": [
      "[[ 1.2   3.4   5.6 ]\n",
      " [11.11 12.12 13.13]]\n"
     ]
    }
   ],
   "source": [
    "#Creating two dimentionsal Array\n",
    "my_array2 = np.array([[1.2, 3.4, 5.6], [11.11, 12.12, 13.13]], dtype=float)\n",
    "print(my_array2)"
   ]
  },
  {
   "cell_type": "code",
   "execution_count": 5,
   "metadata": {},
   "outputs": [
    {
     "name": "stdout",
     "output_type": "stream",
     "text": [
      "['netra', 'kumar', 'manandhar']\n"
     ]
    }
   ],
   "source": [
    "#Crating Array of strings\n",
    "string_array = (['netra', 'kumar', 'manandhar'])\n",
    "print(string_array)"
   ]
  },
  {
   "cell_type": "code",
   "execution_count": 7,
   "metadata": {},
   "outputs": [
    {
     "name": "stdout",
     "output_type": "stream",
     "text": [
      "[[0. 0. 0. 0.]\n",
      " [0. 0. 0. 0.]]\n"
     ]
    }
   ],
   "source": [
    "#You can also create arrays with predefined values using functions like np.zeros(), np.ones(), np.full(), np.arange(), np.linspace(), etc. For example:\n",
    "a = np.zeros((2, 4)) #2 rows & 4 columns\n",
    "print(a)"
   ]
  },
  {
   "cell_type": "code",
   "execution_count": 8,
   "metadata": {},
   "outputs": [
    {
     "name": "stdout",
     "output_type": "stream",
     "text": [
      "[[1. 1. 1. 1.]\n",
      " [1. 1. 1. 1.]\n",
      " [1. 1. 1. 1.]]\n"
     ]
    }
   ],
   "source": [
    "#creating arrays with ones with shapes (3, 4)\n",
    "b = np.ones((3, 4))\n",
    "print(b)"
   ]
  },
  {
   "cell_type": "code",
   "execution_count": 9,
   "metadata": {},
   "outputs": [
    {
     "name": "stdout",
     "output_type": "stream",
     "text": [
      "[[11 11 11 11 11]\n",
      " [11 11 11 11 11]\n",
      " [11 11 11 11 11]]\n"
     ]
    }
   ],
   "source": [
    "#creating array with a constant values of shape (3, 5)\n",
    "c = np.full((3, 5), 11)\n",
    "print(c)"
   ]
  },
  {
   "cell_type": "code",
   "execution_count": 10,
   "metadata": {},
   "outputs": [
    {
     "name": "stdout",
     "output_type": "stream",
     "text": [
      "[0 1 2 3 4 5 6 7 8 9]\n"
     ]
    }
   ],
   "source": [
    "#Creating arrays of evenly spaced values within a range\n",
    "d = np.arange(10) #from 0 to 9 with space size of 1\n",
    "print(d)"
   ]
  },
  {
   "cell_type": "code",
   "execution_count": 12,
   "metadata": {},
   "outputs": [
    {
     "name": "stdout",
     "output_type": "stream",
     "text": [
      "[ 2  3  4  5  6  7  8  9 10 11]\n"
     ]
    }
   ],
   "source": [
    "#from a certain range with step 1\n",
    "d2 = np.arange(2, 12) #From 2 to 11\n",
    "print(d2)"
   ]
  },
  {
   "cell_type": "code",
   "execution_count": 14,
   "metadata": {},
   "outputs": [
    {
     "name": "stdout",
     "output_type": "stream",
     "text": [
      "[ 3  7 11 15 19 23 27 31 35 39 43 47]\n"
     ]
    }
   ],
   "source": [
    "#From a constant step other than 1\n",
    "d3 = np.arange(3, 50, 4) #with the step 4\n",
    "print(d3)"
   ]
  },
  {
   "cell_type": "code",
   "execution_count": 17,
   "metadata": {},
   "outputs": [
    {
     "name": "stdout",
     "output_type": "stream",
     "text": [
      "[ 0.   2.5  5.   7.5 10.  12.5 15.  17.5 20.  22.5 25.  27.5 30.  32.5\n",
      " 35.  37.5 40.  42.5 45.  47.5]\n"
     ]
    }
   ],
   "source": [
    "d4 = np.arange(0, 50, 2.5)\n",
    "print(d4)"
   ]
  },
  {
   "cell_type": "code",
   "execution_count": 21,
   "metadata": {},
   "outputs": [
    {
     "name": "stdout",
     "output_type": "stream",
     "text": [
      "[ 0.          0.30612245  0.6122449   0.91836735  1.2244898   1.53061224\n",
      "  1.83673469  2.14285714  2.44897959  2.75510204  3.06122449  3.36734694\n",
      "  3.67346939  3.97959184  4.28571429  4.59183673  4.89795918  5.20408163\n",
      "  5.51020408  5.81632653  6.12244898  6.42857143  6.73469388  7.04081633\n",
      "  7.34693878  7.65306122  7.95918367  8.26530612  8.57142857  8.87755102\n",
      "  9.18367347  9.48979592  9.79591837 10.10204082 10.40816327 10.71428571\n",
      " 11.02040816 11.32653061 11.63265306 11.93877551 12.24489796 12.55102041\n",
      " 12.85714286 13.16326531 13.46938776 13.7755102  14.08163265 14.3877551\n",
      " 14.69387755 15.        ]\n"
     ]
    }
   ],
   "source": [
    "#With some default sample size\n",
    "e1 = np.linspace(0, 15) #Output is 50 float values from 0 to 15.\n",
    "print(e1)"
   ]
  },
  {
   "cell_type": "code",
   "execution_count": 22,
   "metadata": {},
   "outputs": [
    {
     "name": "stdout",
     "output_type": "stream",
     "text": [
      "[10.  12.5 15.  17.5 20. ]\n"
     ]
    }
   ],
   "source": [
    "#Fixed Number of samples\n",
    "e2 = np.linspace(10, 20, num=5) #5 different samples\n",
    "print(e2)"
   ]
  },
  {
   "cell_type": "code",
   "execution_count": 25,
   "metadata": {},
   "outputs": [
    {
     "name": "stdout",
     "output_type": "stream",
     "text": [
      "[ 25  33  41  50  58  66  75  83  91 100]\n"
     ]
    }
   ],
   "source": [
    "#Fixed sample and data type\n",
    "e3 = np.linspace(25, 100, num=10, dtype=int) #Sample = 10, data type = Integer value\n",
    "print(e3)"
   ]
  },
  {
   "cell_type": "code",
   "execution_count": 26,
   "metadata": {},
   "outputs": [],
   "source": [
    "#Different Functions with Numpy Array"
   ]
  },
  {
   "cell_type": "markdown",
   "metadata": {},
   "source": []
  },
  {
   "cell_type": "markdown",
   "metadata": {},
   "source": [
    "#Arithmetic Operation"
   ]
  },
  {
   "cell_type": "code",
   "execution_count": 28,
   "metadata": {},
   "outputs": [
    {
     "name": "stdout",
     "output_type": "stream",
     "text": [
      "[  22    0  577 1110]\n"
     ]
    }
   ],
   "source": [
    "#Addition\n",
    "a = np.array([1, 23, 234, 3453])\n",
    "b = np.array([21, -23, 343, -2343])\n",
    "c = np.add(a, b)\n",
    "print(c)"
   ]
  },
  {
   "cell_type": "code",
   "execution_count": 29,
   "metadata": {},
   "outputs": [
    {
     "name": "stdout",
     "output_type": "stream",
     "text": [
      "[ -20   46 -109 5796]\n"
     ]
    }
   ],
   "source": [
    "#Subtract the arrays \n",
    "d = np.subtract(a, b)\n",
    "print(d)"
   ]
  },
  {
   "cell_type": "code",
   "execution_count": 30,
   "metadata": {},
   "outputs": [
    {
     "name": "stdout",
     "output_type": "stream",
     "text": [
      "[      21     -529    80262 -8090379]\n"
     ]
    }
   ],
   "source": [
    "#Multiply the arrays\n",
    "e = np.multiply(a, b)\n",
    "print(e)"
   ]
  },
  {
   "cell_type": "code",
   "execution_count": 33,
   "metadata": {},
   "outputs": [
    {
     "name": "stdout",
     "output_type": "stream",
     "text": [
      "[ 0.04761905 -1.          0.68221574 -1.4737516 ]\n",
      "[21.         -1.          1.46581197 -0.6785404 ]\n"
     ]
    }
   ],
   "source": [
    "#Divide the Arrays\n",
    "f = np.divide(a, b) #Divides a/b\n",
    "g = np.divide(b, a) #Divides b/a\n",
    "print(f)\n",
    "print(g)"
   ]
  },
  {
   "cell_type": "code",
   "execution_count": 35,
   "metadata": {},
   "outputs": [
    {
     "name": "stdout",
     "output_type": "stream",
     "text": [
      "[   1    8   81 1024]\n"
     ]
    }
   ],
   "source": [
    "#Raising the Power\n",
    "#Integer power is not allowed\n",
    "x1 = np.array([1, 2, 3, 4])\n",
    "x2 = np.array([2, 3, 4, 5])\n",
    "h = np.power(x1, x2) #x1 raised to the power x2\n",
    "print(h)"
   ]
  },
  {
   "cell_type": "markdown",
   "metadata": {},
   "source": [
    "**Using Artithmetic Operators"
   ]
  },
  {
   "cell_type": "code",
   "execution_count": 39,
   "metadata": {},
   "outputs": [
    {
     "name": "stdout",
     "output_type": "stream",
     "text": [
      "[   1   23  234 3453] [   21   -23   343 -2343]\n",
      "[1 2 3 4] [2 3 4 5]\n"
     ]
    }
   ],
   "source": [
    "print(a, b)\n",
    "print(x1, x2)"
   ]
  },
  {
   "cell_type": "code",
   "execution_count": 40,
   "metadata": {},
   "outputs": [
    {
     "name": "stdout",
     "output_type": "stream",
     "text": [
      "[  22    0  577 1110]\n"
     ]
    }
   ],
   "source": [
    "a1 = a+b\n",
    "print(a1)"
   ]
  },
  {
   "cell_type": "code",
   "execution_count": 41,
   "metadata": {},
   "outputs": [
    {
     "name": "stdout",
     "output_type": "stream",
     "text": [
      "[ -20   46 -109 5796]\n"
     ]
    }
   ],
   "source": [
    "a2 = a-b\n",
    "print(a2)"
   ]
  },
  {
   "cell_type": "code",
   "execution_count": 42,
   "metadata": {},
   "outputs": [
    {
     "name": "stdout",
     "output_type": "stream",
     "text": [
      "[      21     -529    80262 -8090379]\n"
     ]
    }
   ],
   "source": [
    "a3 = a*b\n",
    "print(a3)"
   ]
  },
  {
   "cell_type": "code",
   "execution_count": 43,
   "metadata": {},
   "outputs": [
    {
     "name": "stdout",
     "output_type": "stream",
     "text": [
      "[ 0.04761905 -1.          0.68221574 -1.4737516 ]\n"
     ]
    }
   ],
   "source": [
    "a4 = a/b\n",
    "print(a4)"
   ]
  },
  {
   "cell_type": "code",
   "execution_count": 44,
   "metadata": {},
   "outputs": [
    {
     "name": "stdout",
     "output_type": "stream",
     "text": [
      "[ 0 -1  0 -2]\n"
     ]
    }
   ],
   "source": [
    "#Dividing to get output integer value \n",
    "a5 = a//b\n",
    "print(a5)"
   ]
  },
  {
   "cell_type": "code",
   "execution_count": 45,
   "metadata": {},
   "outputs": [
    {
     "name": "stdout",
     "output_type": "stream",
     "text": [
      "[   1    8   81 1024]\n"
     ]
    }
   ],
   "source": [
    "#Raising the Power\n",
    "a6 = x1**x2\n",
    "print(a6)"
   ]
  },
  {
   "cell_type": "markdown",
   "metadata": {},
   "source": [
    "Statistical Operations"
   ]
  },
  {
   "cell_type": "code",
   "execution_count": 46,
   "metadata": {},
   "outputs": [
    {
     "name": "stdout",
     "output_type": "stream",
     "text": [
      "[ 10  20  30  40  50  60  70  80  90 100]\n"
     ]
    }
   ],
   "source": [
    "stat_array = np.array([10, 20, 30, 40, 50, 60, 70, 80, 90, 100])\n",
    "print(stat_array)"
   ]
  },
  {
   "cell_type": "code",
   "execution_count": 47,
   "metadata": {},
   "outputs": [
    {
     "name": "stdout",
     "output_type": "stream",
     "text": [
      "55.0\n"
     ]
    }
   ],
   "source": [
    "#Mean\n",
    "s1 = np.mean(stat_array)\n",
    "print(s1)"
   ]
  },
  {
   "cell_type": "code",
   "execution_count": 50,
   "metadata": {},
   "outputs": [
    {
     "name": "stdout",
     "output_type": "stream",
     "text": [
      "55.0\n"
     ]
    }
   ],
   "source": [
    "#Median\n",
    "s2 = np.median(stat_array)\n",
    "print(s2)"
   ]
  },
  {
   "cell_type": "code",
   "execution_count": 51,
   "metadata": {},
   "outputs": [
    {
     "name": "stdout",
     "output_type": "stream",
     "text": [
      "28.722813232690143\n"
     ]
    }
   ],
   "source": [
    "#Standard Deviation\n",
    "s3 = np.std(stat_array)\n",
    "print(s3)"
   ]
  },
  {
   "cell_type": "code",
   "execution_count": 52,
   "metadata": {},
   "outputs": [
    {
     "name": "stdout",
     "output_type": "stream",
     "text": [
      "825.0\n"
     ]
    }
   ],
   "source": [
    "#Variance\n",
    "s4 = np.var(stat_array)\n",
    "print(s4)"
   ]
  },
  {
   "cell_type": "code",
   "execution_count": 53,
   "metadata": {},
   "outputs": [
    {
     "name": "stdout",
     "output_type": "stream",
     "text": [
      "10\n"
     ]
    }
   ],
   "source": [
    "#Minimum Values \n",
    "s5 = np.min(stat_array)\n",
    "print(s5)"
   ]
  },
  {
   "cell_type": "code",
   "execution_count": 54,
   "metadata": {},
   "outputs": [
    {
     "name": "stdout",
     "output_type": "stream",
     "text": [
      "100\n"
     ]
    }
   ],
   "source": [
    "#Maximum Values\n",
    "s6 = np.max(stat_array)\n",
    "print(s6)"
   ]
  },
  {
   "cell_type": "markdown",
   "metadata": {},
   "source": [
    "Using Statistics in Multidimensional arrays"
   ]
  },
  {
   "cell_type": "code",
   "execution_count": 55,
   "metadata": {},
   "outputs": [
    {
     "name": "stdout",
     "output_type": "stream",
     "text": [
      "[[ 20  30  40  50]\n",
      " [ 11  12  13  14]\n",
      " [100 150 200 250]\n",
      " [200 250 300 350]]\n"
     ]
    }
   ],
   "source": [
    "multi_array = np.array([[20, 30, 40, 50], [11, 12, 13, 14], [100, 150, 200, 250], [200, 250, 300, 350]])\n",
    "print(multi_array)"
   ]
  },
  {
   "cell_type": "code",
   "execution_count": 56,
   "metadata": {},
   "outputs": [
    {
     "name": "stdout",
     "output_type": "stream",
     "text": [
      "[ 35.   12.5 175.  275. ]\n"
     ]
    }
   ],
   "source": [
    "#Mean of the Row\n",
    "m1 = np.mean(multi_array, axis=1) #Mean of [20, 30, 40, 50] and so on\n",
    "print(m1)"
   ]
  },
  {
   "cell_type": "code",
   "execution_count": 57,
   "metadata": {},
   "outputs": [
    {
     "name": "stdout",
     "output_type": "stream",
     "text": [
      "[ 82.75 110.5  138.25 166.  ]\n"
     ]
    }
   ],
   "source": [
    "#Mean of the Column\n",
    "m2 = np.mean(multi_array, axis=0) #Mean of [20, 11, 100, 200] and so on\n",
    "print(m2)"
   ]
  },
  {
   "cell_type": "code",
   "execution_count": 59,
   "metadata": {},
   "outputs": [
    {
     "name": "stdout",
     "output_type": "stream",
     "text": [
      "[ 35.   12.5 175.  275. ]\n",
      "[ 60.  90. 120. 150.]\n"
     ]
    }
   ],
   "source": [
    "#Median\n",
    "m3 = np.median(multi_array, axis=1) #Row\n",
    "m4 = np.median(multi_array, axis=0) #Column\n",
    "print(m3)\n",
    "print(m4)"
   ]
  },
  {
   "cell_type": "code",
   "execution_count": 60,
   "metadata": {},
   "outputs": [
    {
     "name": "stdout",
     "output_type": "stream",
     "text": [
      "[11.18033989  1.11803399 55.90169944 55.90169944]\n",
      "[ 76.04398398  96.4403961  117.59756588 139.16896206]\n"
     ]
    }
   ],
   "source": [
    "#Standard Deviation\n",
    "m5 = np.std(multi_array, axis=1) #Row\n",
    "m6 = np.std(multi_array, axis=0) #Column\n",
    "print(m5)\n",
    "print(m6)"
   ]
  },
  {
   "cell_type": "code",
   "execution_count": 61,
   "metadata": {},
   "outputs": [
    {
     "name": "stdout",
     "output_type": "stream",
     "text": [
      "[1.250e+02 1.250e+00 3.125e+03 3.125e+03]\n",
      "[ 5782.6875  9300.75   13829.1875 19368.    ]\n"
     ]
    }
   ],
   "source": [
    "#Variance\n",
    "m7 = np.var(multi_array, axis=1) #Row\n",
    "m8 = np.var(multi_array, axis=0) #Column\n",
    "print(m7)\n",
    "print(m8)"
   ]
  },
  {
   "cell_type": "code",
   "execution_count": 63,
   "metadata": {},
   "outputs": [
    {
     "name": "stdout",
     "output_type": "stream",
     "text": [
      "[ 20  11 100 200]\n",
      "[11 12 13 14]\n"
     ]
    }
   ],
   "source": [
    "#Minimum and Maximum value\n",
    "m9 = np.min(multi_array, axis=1) #Row\n",
    "m10 = np.min(multi_array, axis=0) #column\n",
    "print(m9)\n",
    "\n",
    "print(m10)"
   ]
  },
  {
   "cell_type": "markdown",
   "metadata": {},
   "source": [
    "Other important Functions Append, Insert, Delete, Concatenate, etc."
   ]
  },
  {
   "cell_type": "markdown",
   "metadata": {},
   "source": [
    "Appending = Adding to the End"
   ]
  },
  {
   "cell_type": "code",
   "execution_count": 67,
   "metadata": {},
   "outputs": [
    {
     "name": "stdout",
     "output_type": "stream",
     "text": [
      "[ 10 100 200 300 500 700]\n"
     ]
    }
   ],
   "source": [
    "#Append in one-dim array\n",
    "arr = np.array([10, 100, 200, 300, 500, 700])\n",
    "print(arr)"
   ]
  },
  {
   "cell_type": "code",
   "execution_count": 68,
   "metadata": {},
   "outputs": [
    {
     "name": "stdout",
     "output_type": "stream",
     "text": [
      "[ 10 100 200 300 500 700 900]\n"
     ]
    }
   ],
   "source": [
    "#Append a single value to the end\n",
    "arr1 = np.append(arr, 900) #It will add 900 to the original Array i.e., arr\n",
    "print(arr1)"
   ]
  },
  {
   "cell_type": "code",
   "execution_count": 69,
   "metadata": {},
   "outputs": [
    {
     "name": "stdout",
     "output_type": "stream",
     "text": [
      "[  10  100  200  300  500  700 1100 1200 1500]\n"
     ]
    }
   ],
   "source": [
    "#Appending a list of values to the end of the arra\n",
    "arr2 = np.append(arr, [1100, 1200, 1500])\n",
    "print(arr2)"
   ]
  },
  {
   "cell_type": "code",
   "execution_count": 70,
   "metadata": {},
   "outputs": [
    {
     "name": "stdout",
     "output_type": "stream",
     "text": [
      "[[10 20 30 40 50]\n",
      " [ 5 15 25 35 45]]\n"
     ]
    }
   ],
   "source": [
    "#Appending values to two Dim Arrays\n",
    "two_dim_array = np.array([[10, 20, 30, 40, 50], [5, 15, 25, 35, 45]])\n",
    "print(two_dim_array)"
   ]
  },
  {
   "cell_type": "code",
   "execution_count": 71,
   "metadata": {},
   "outputs": [
    {
     "name": "stdout",
     "output_type": "stream",
     "text": [
      "[[10 20 30 40 50 60]\n",
      " [ 5 15 25 35 45 55]]\n"
     ]
    }
   ],
   "source": [
    "#Appending a single value to the end of each row\n",
    "arr3 = np.append(two_dim_array, [[60], [55]], axis=1) #Adds the values to the end of each row\n",
    "print(arr3)"
   ]
  },
  {
   "cell_type": "code",
   "execution_count": 72,
   "metadata": {},
   "outputs": [
    {
     "name": "stdout",
     "output_type": "stream",
     "text": [
      "[[10 20 30 40 50 70 80]\n",
      " [ 5 15 25 35 45 65 75]]\n"
     ]
    }
   ],
   "source": [
    "##Appending a list of values to the end of each row\n",
    "arr4 = np.append(two_dim_array, [[70, 80], [65, 75]], axis=1)\n",
    "print(arr4)"
   ]
  },
  {
   "cell_type": "code",
   "execution_count": 74,
   "metadata": {},
   "outputs": [
    {
     "name": "stdout",
     "output_type": "stream",
     "text": [
      "[[10 20 30 40 50]\n",
      " [ 5 15 25 35 45]\n",
      " [11 22 33 44 55]]\n"
     ]
    }
   ],
   "source": [
    "#Appending a single value to the end of each column\n",
    "arr5 = np.append(two_dim_array, [[11, 22, 33, 44, 55]], axis=0) #Note that there are 5 columns in the original column...so need to add 5 elements \n",
    "print(arr5)"
   ]
  },
  {
   "cell_type": "code",
   "execution_count": 75,
   "metadata": {},
   "outputs": [
    {
     "name": "stdout",
     "output_type": "stream",
     "text": [
      "[[ 10  20  30  40  50]\n",
      " [  5  15  25  35  45]\n",
      " [ 11  22  33  44  55]\n",
      " [111 222 333 444 555]]\n"
     ]
    }
   ],
   "source": [
    "#Appending a list of values to the end of each column\n",
    "arr6 = np.append(two_dim_array, [[11, 22, 33, 44, 55], [111, 222, 333, 444, 555]], axis=0)\n",
    "print(arr6)"
   ]
  },
  {
   "cell_type": "markdown",
   "metadata": {},
   "source": [
    "Inserting Values in any Index Values"
   ]
  },
  {
   "cell_type": "code",
   "execution_count": 76,
   "metadata": {},
   "outputs": [],
   "source": [
    "#np.insert(arr, obj, values, axis=None)"
   ]
  },
  {
   "cell_type": "code",
   "execution_count": 77,
   "metadata": {},
   "outputs": [
    {
     "name": "stdout",
     "output_type": "stream",
     "text": [
      "[ 10 100 200 300 500 700]\n"
     ]
    }
   ],
   "source": [
    "print(arr)"
   ]
  },
  {
   "cell_type": "code",
   "execution_count": 78,
   "metadata": {},
   "outputs": [
    {
     "name": "stdout",
     "output_type": "stream",
     "text": [
      "[ 10 100  55 200 300 500 700]\n"
     ]
    }
   ],
   "source": [
    "in1 = np.insert(arr, 2, 55) #Inserting in the second index\n",
    "print(in1)"
   ]
  },
  {
   "cell_type": "code",
   "execution_count": 79,
   "metadata": {},
   "outputs": [
    {
     "name": "stdout",
     "output_type": "stream",
     "text": [
      "[     10     100     200     300 2132213     500     700]\n"
     ]
    }
   ],
   "source": [
    "in2 = np.insert(arr, 4, 2132213)\n",
    "print(in2)"
   ]
  },
  {
   "cell_type": "code",
   "execution_count": 81,
   "metadata": {},
   "outputs": [
    {
     "name": "stdout",
     "output_type": "stream",
     "text": [
      "[ 10 100 200  11  22  33 300 500 700]\n"
     ]
    }
   ],
   "source": [
    "#Adding a list of element\n",
    "in3 = np.insert(arr, 3, [11, 22, 33])\n",
    "print(in3)"
   ]
  },
  {
   "cell_type": "code",
   "execution_count": 84,
   "metadata": {},
   "outputs": [
    {
     "name": "stdout",
     "output_type": "stream",
     "text": [
      "[ 11  10 100 200  22 300 500 700]\n",
      "[111  10 100 222 200 300 333 500 700]\n"
     ]
    }
   ],
   "source": [
    "#Inserting in multiple index values\n",
    "in4 = np.insert(arr, [0, 3], [11, 22]) #Inserts the values in index values = 0 and 3\n",
    "print(in4)\n",
    "in5 = np.insert(arr, [0, 2, 4], [111, 222, 333])\n",
    "print(in5)"
   ]
  },
  {
   "cell_type": "code",
   "execution_count": 85,
   "metadata": {},
   "outputs": [
    {
     "name": "stdout",
     "output_type": "stream",
     "text": [
      "[[10 20 30 40 50]\n",
      " [ 5 15 25 35 45]]\n"
     ]
    }
   ],
   "source": [
    "#Inserting in Two-Dim Arrays\n",
    "print(two_dim_array)"
   ]
  },
  {
   "cell_type": "code",
   "execution_count": 86,
   "metadata": {},
   "outputs": [
    {
     "name": "stdout",
     "output_type": "stream",
     "text": [
      "[[ 0  0  0  0  0]\n",
      " [10 20 30 40 50]\n",
      " [ 5 15 25 35 45]]\n"
     ]
    }
   ],
   "source": [
    "#Inserting the Values before the first row\n",
    "new_twod = np.insert(two_dim_array, 0, 0, axis=0)\n",
    "print(new_twod)"
   ]
  },
  {
   "cell_type": "code",
   "execution_count": 88,
   "metadata": {},
   "outputs": [
    {
     "name": "stdout",
     "output_type": "stream",
     "text": [
      "[[10 55 20 30 40 50]\n",
      " [ 5 66 15 25 35 45]]\n"
     ]
    }
   ],
   "source": [
    "#Inserting a list of values before the second column\n",
    "c1 = np.insert(two_dim_array, 1, [55, 66], axis=1) #Inserts 55 and 66 in the first column index values\n",
    "print(c1)"
   ]
  },
  {
   "cell_type": "code",
   "execution_count": 89,
   "metadata": {},
   "outputs": [
    {
     "name": "stdout",
     "output_type": "stream",
     "text": [
      "[[10 22 20 30 22 40 50]\n",
      " [ 5 33 15 25 33 35 45]]\n"
     ]
    }
   ],
   "source": [
    "c2 = np.insert(two_dim_array, [1, 3], [[22], [33]], axis=1) #Inserts 22 and 33 in the first and third column index\n",
    "print(c2)"
   ]
  },
  {
   "cell_type": "markdown",
   "metadata": {},
   "source": [
    "Concatinating = Joining"
   ]
  },
  {
   "cell_type": "code",
   "execution_count": 90,
   "metadata": {},
   "outputs": [
    {
     "data": {
      "text/plain": [
       "(array([   1,   23,  234, 3453]), array([   21,   -23,   343, -2343]))"
      ]
     },
     "execution_count": 90,
     "metadata": {},
     "output_type": "execute_result"
    }
   ],
   "source": [
    "a, b"
   ]
  },
  {
   "cell_type": "code",
   "execution_count": 94,
   "metadata": {},
   "outputs": [
    {
     "name": "stdout",
     "output_type": "stream",
     "text": [
      "[    1    23   234  3453    21   -23   343 -2343]\n"
     ]
    }
   ],
   "source": [
    "#np.concatenate((a1, a2, ...), axis=0)\n",
    "con1 = np.concatenate((a, b), axis = 0) #Concatenates the arrays in rows\n",
    "print(con1)"
   ]
  },
  {
   "cell_type": "code",
   "execution_count": 99,
   "metadata": {},
   "outputs": [
    {
     "name": "stdout",
     "output_type": "stream",
     "text": [
      "[    1    23   234  3453    21   -23   343 -2343]\n"
     ]
    }
   ],
   "source": [
    "con2 = np.concatenate((a, b)) #Default the axis argument is zero\n",
    "print(con2)"
   ]
  },
  {
   "cell_type": "code",
   "execution_count": 100,
   "metadata": {},
   "outputs": [
    {
     "name": "stdout",
     "output_type": "stream",
     "text": [
      "[[2 3 4]\n",
      " [4 5 6]]\n",
      "[[11 12 13]\n",
      " [15 16 17]]\n"
     ]
    }
   ],
   "source": [
    "#Concatinating two_dim arrays\n",
    "ar1 = np.array([[2, 3, 4], [4, 5, 6]])\n",
    "ar2 = np.array([[11, 12, 13], [15, 16, 17]])\n",
    "print(ar1)\n",
    "print(ar2)"
   ]
  },
  {
   "cell_type": "code",
   "execution_count": 101,
   "metadata": {},
   "outputs": [
    {
     "name": "stdout",
     "output_type": "stream",
     "text": [
      "[[ 2  3  4]\n",
      " [ 4  5  6]\n",
      " [11 12 13]\n",
      " [15 16 17]]\n"
     ]
    }
   ],
   "source": [
    "con3 = np.concatenate((ar1, ar2)) #Adding the elements to the ROWS\n",
    "print(con3)"
   ]
  },
  {
   "cell_type": "code",
   "execution_count": 104,
   "metadata": {},
   "outputs": [
    {
     "name": "stdout",
     "output_type": "stream",
     "text": [
      "[[ 2  3  4 11 12 13]\n",
      " [ 4  5  6 15 16 17]]\n"
     ]
    }
   ],
   "source": [
    "con4 = np.concatenate((ar1, ar2), axis=1) #Adding the elements to the Columns (Increating the number of Columns)\n",
    "print(con4)"
   ]
  },
  {
   "cell_type": "markdown",
   "metadata": {},
   "source": [
    "Delete Functions"
   ]
  },
  {
   "cell_type": "code",
   "execution_count": 105,
   "metadata": {},
   "outputs": [],
   "source": [
    "#np.delete(arr, obj, axis=None)"
   ]
  },
  {
   "cell_type": "code",
   "execution_count": 106,
   "metadata": {},
   "outputs": [
    {
     "name": "stdout",
     "output_type": "stream",
     "text": [
      "[ 10 100 200 300 500 700]\n"
     ]
    }
   ],
   "source": [
    "print(arr)"
   ]
  },
  {
   "cell_type": "code",
   "execution_count": 107,
   "metadata": {},
   "outputs": [
    {
     "name": "stdout",
     "output_type": "stream",
     "text": [
      "[ 10 100 300 500 700]\n"
     ]
    }
   ],
   "source": [
    "#To delete a single element by its index value\n",
    "del1 = np.delete(arr, 2) #Delets the third element i.e., 200\n",
    "print(del1)"
   ]
  },
  {
   "cell_type": "code",
   "execution_count": 108,
   "metadata": {},
   "outputs": [
    {
     "name": "stdout",
     "output_type": "stream",
     "text": [
      "[100 200 300 700]\n"
     ]
    }
   ],
   "source": [
    "#Deleting Multiple elements by their index values\n",
    "del2 = np.delete(arr, [0, 4]) #Deletes the elements in the first and fifth\n",
    "print(del2)"
   ]
  },
  {
   "cell_type": "code",
   "execution_count": 111,
   "metadata": {},
   "outputs": [
    {
     "name": "stdout",
     "output_type": "stream",
     "text": [
      "[ 10 100]\n"
     ]
    }
   ],
   "source": [
    "#Delete elements by a boolean mask\n",
    "del3 = np.delete(arr, arr>100) #Deletes the elements grater than 100 in the array\n",
    "print(del3)"
   ]
  },
  {
   "cell_type": "code",
   "execution_count": 112,
   "metadata": {},
   "outputs": [
    {
     "name": "stdout",
     "output_type": "stream",
     "text": [
      "[ 10 100 200 300 500]\n"
     ]
    }
   ],
   "source": [
    "#Delete elements by a boolean mask\n",
    "del3 = np.delete(arr, arr>500) #Deletes the elements grater than 500 in the array\n",
    "print(del3)"
   ]
  },
  {
   "cell_type": "code",
   "execution_count": 115,
   "metadata": {},
   "outputs": [
    {
     "name": "stdout",
     "output_type": "stream",
     "text": [
      "[[10 20 30 40 50]\n",
      " [ 5 15 25 35 45]]\n"
     ]
    }
   ],
   "source": [
    "#Deleting elements in two dimensional arrays\n",
    "print(two_dim_array)"
   ]
  },
  {
   "cell_type": "code",
   "execution_count": 117,
   "metadata": {},
   "outputs": [
    {
     "name": "stdout",
     "output_type": "stream",
     "text": [
      "[[ 5 15 25 35 45]]\n"
     ]
    }
   ],
   "source": [
    "#Deleting the first axis\n",
    "new_array = np.delete(two_dim_array, 0, axis=0)\n",
    "print(new_array)"
   ]
  },
  {
   "cell_type": "code",
   "execution_count": 118,
   "metadata": {},
   "outputs": [
    {
     "name": "stdout",
     "output_type": "stream",
     "text": [
      "[[10 20 30 40 50]]\n"
     ]
    }
   ],
   "source": [
    "#Deleting the second row of the first axis\n",
    "new_array1 = np.delete(two_dim_array, 1, axis=0) #1 means = second row \n",
    "print(new_array1)"
   ]
  },
  {
   "cell_type": "code",
   "execution_count": 119,
   "metadata": {},
   "outputs": [
    {
     "name": "stdout",
     "output_type": "stream",
     "text": [
      "[[20 30 40 50]\n",
      " [15 25 35 45]]\n"
     ]
    }
   ],
   "source": [
    "#Deleting the Columns\n",
    "new_array2 = np.delete(two_dim_array, 0, axis=1) #Delets the first columns\n",
    "print(new_array2)"
   ]
  },
  {
   "cell_type": "code",
   "execution_count": 120,
   "metadata": {},
   "outputs": [
    {
     "name": "stdout",
     "output_type": "stream",
     "text": [
      "[[10 20 40 50]\n",
      " [ 5 15 35 45]]\n"
     ]
    }
   ],
   "source": [
    "#Deleting third columns\n",
    "new_array3 = np.delete(two_dim_array, 2, axis=1)\n",
    "print(new_array3)"
   ]
  },
  {
   "cell_type": "code",
   "execution_count": null,
   "metadata": {},
   "outputs": [],
   "source": []
  }
 ],
 "metadata": {
  "kernelspec": {
   "display_name": "myvenv",
   "language": "python",
   "name": "python3"
  },
  "language_info": {
   "codemirror_mode": {
    "name": "ipython",
    "version": 3
   },
   "file_extension": ".py",
   "mimetype": "text/x-python",
   "name": "python",
   "nbconvert_exporter": "python",
   "pygments_lexer": "ipython3",
   "version": "3.11.5"
  },
  "orig_nbformat": 4
 },
 "nbformat": 4,
 "nbformat_minor": 2
}
