{
 "cells": [
  {
   "cell_type": "code",
   "execution_count": 1,
   "metadata": {},
   "outputs": [],
   "source": [
    "import numpy as np\n",
    "import matplotlib.pyplot as plt"
   ]
  },
  {
   "cell_type": "markdown",
   "metadata": {},
   "source": [
    "# Creating Arrays"
   ]
  },
  {
   "cell_type": "code",
   "execution_count": 2,
   "metadata": {},
   "outputs": [],
   "source": [
    "a1 = np.array([2, 4, 6, 8])\n",
    "a2 = np.zeros(10)\n",
    "a3 = np.ones(5)\n",
    "a4 = np.random.random(5)\n",
    "a5 = np.random.randn(5)\n",
    "a6 = np.linspace(0, 10, 20)\n",
    "a7 = np.arange(0, 10, 2)\n",
    "a8 = np.random.randint(0, 50, 5) #Random integer from 0 to 50, 5 samples "
   ]
  },
  {
   "cell_type": "code",
   "execution_count": 3,
   "metadata": {},
   "outputs": [
    {
     "data": {
      "text/plain": [
       "(array([2, 4, 6, 8]),\n",
       " array([0., 0., 0., 0., 0., 0., 0., 0., 0., 0.]),\n",
       " array([1., 1., 1., 1., 1.]),\n",
       " array([0.02958033, 0.76765075, 0.96267774, 0.92421205, 0.30719862]),\n",
       " array([ 0.88160215,  0.50073335, -2.6431037 ,  2.8794428 ,  0.67910202]),\n",
       " array([ 0.        ,  0.52631579,  1.05263158,  1.57894737,  2.10526316,\n",
       "         2.63157895,  3.15789474,  3.68421053,  4.21052632,  4.73684211,\n",
       "         5.26315789,  5.78947368,  6.31578947,  6.84210526,  7.36842105,\n",
       "         7.89473684,  8.42105263,  8.94736842,  9.47368421, 10.        ]),\n",
       " array([0, 2, 4, 6, 8]),\n",
       " array([34,  0, 10,  7,  2]))"
      ]
     },
     "execution_count": 3,
     "metadata": {},
     "output_type": "execute_result"
    }
   ],
   "source": [
    "a1, a2, a3, a4, a5, a6, a7, a8"
   ]
  },
  {
   "cell_type": "markdown",
   "metadata": {},
   "source": [
    "# Array Operations "
   ]
  },
  {
   "cell_type": "code",
   "execution_count": 4,
   "metadata": {},
   "outputs": [
    {
     "data": {
      "text/plain": [
       "array([68,  0, 20, 14,  4])"
      ]
     },
     "execution_count": 4,
     "metadata": {},
     "output_type": "execute_result"
    }
   ],
   "source": [
    "a8*2"
   ]
  },
  {
   "cell_type": "code",
   "execution_count": 5,
   "metadata": {},
   "outputs": [
    {
     "data": {
      "text/plain": [
       "array([3400,    0, 1000,  700,  200])"
      ]
     },
     "execution_count": 5,
     "metadata": {},
     "output_type": "execute_result"
    }
   ],
   "source": [
    "a8*100"
   ]
  },
  {
   "cell_type": "code",
   "execution_count": 6,
   "metadata": {},
   "outputs": [
    {
     "data": {
      "text/plain": [
       "array([34.02958033,  2.76765075, 14.96267774, 13.92421205, 10.30719862])"
      ]
     },
     "execution_count": 6,
     "metadata": {},
     "output_type": "execute_result"
    }
   ],
   "source": [
    "a8 + a4 + a7"
   ]
  },
  {
   "cell_type": "code",
   "execution_count": 7,
   "metadata": {},
   "outputs": [
    {
     "data": {
      "text/plain": [
       "array([ 6, 12, 18, 24])"
      ]
     },
     "execution_count": 7,
     "metadata": {},
     "output_type": "execute_result"
    }
   ],
   "source": [
    "a1*3"
   ]
  },
  {
   "cell_type": "code",
   "execution_count": 8,
   "metadata": {},
   "outputs": [
    {
     "data": {
      "text/plain": [
       "array([False, False, False,  True])"
      ]
     },
     "execution_count": 8,
     "metadata": {},
     "output_type": "execute_result"
    }
   ],
   "source": [
    "2*a1>15 #Checking the Lists "
   ]
  },
  {
   "cell_type": "code",
   "execution_count": 9,
   "metadata": {},
   "outputs": [
    {
     "data": {
      "text/plain": [
       "array([ True,  True,  True,  True])"
      ]
     },
     "execution_count": 9,
     "metadata": {},
     "output_type": "execute_result"
    }
   ],
   "source": [
    "a1 < 50"
   ]
  },
  {
   "cell_type": "code",
   "execution_count": 10,
   "metadata": {},
   "outputs": [
    {
     "data": {
      "text/plain": [
       "array([False, False, False, False])"
      ]
     },
     "execution_count": 10,
     "metadata": {},
     "output_type": "execute_result"
    }
   ],
   "source": [
    "a1 > 50"
   ]
  },
  {
   "cell_type": "code",
   "execution_count": 11,
   "metadata": {},
   "outputs": [
    {
     "data": {
      "text/plain": [
       "array([False, False, False, False])"
      ]
     },
     "execution_count": 11,
     "metadata": {},
     "output_type": "execute_result"
    }
   ],
   "source": [
    "a1 > 20"
   ]
  },
  {
   "cell_type": "code",
   "execution_count": 12,
   "metadata": {},
   "outputs": [
    {
     "data": {
      "text/plain": [
       "array([False, False,  True,  True])"
      ]
     },
     "execution_count": 12,
     "metadata": {},
     "output_type": "execute_result"
    }
   ],
   "source": [
    "2*a1>10"
   ]
  },
  {
   "cell_type": "code",
   "execution_count": 13,
   "metadata": {},
   "outputs": [
    {
     "data": {
      "text/plain": [
       "array([33.83582488,  2.07032648,  2.00144695,  2.00621482,  3.56242162])"
      ]
     },
     "execution_count": 13,
     "metadata": {},
     "output_type": "execute_result"
    }
   ],
   "source": [
    "1/a4 + a4"
   ]
  },
  {
   "cell_type": "code",
   "execution_count": 14,
   "metadata": {},
   "outputs": [
    {
     "data": {
      "text/plain": [
       "array([ True, False, False, False])"
      ]
     },
     "execution_count": 14,
     "metadata": {},
     "output_type": "execute_result"
    }
   ],
   "source": [
    "a1 == 2 #checking the element "
   ]
  },
  {
   "cell_type": "code",
   "execution_count": 15,
   "metadata": {},
   "outputs": [
    {
     "data": {
      "text/plain": [
       "array([2, 4, 6, 8])"
      ]
     },
     "execution_count": 15,
     "metadata": {},
     "output_type": "execute_result"
    }
   ],
   "source": [
    "a1"
   ]
  },
  {
   "cell_type": "code",
   "execution_count": 16,
   "metadata": {},
   "outputs": [
    {
     "data": {
      "text/plain": [
       "array([5, 4, 6, 8])"
      ]
     },
     "execution_count": 16,
     "metadata": {},
     "output_type": "execute_result"
    }
   ],
   "source": [
    "a1[0] = 5 #replacing element \n",
    "a1"
   ]
  },
  {
   "cell_type": "markdown",
   "metadata": {},
   "source": [
    "### Slicing the members "
   ]
  },
  {
   "cell_type": "code",
   "execution_count": 17,
   "metadata": {},
   "outputs": [
    {
     "data": {
      "text/plain": [
       "array([5, 4, 6, 8])"
      ]
     },
     "execution_count": 17,
     "metadata": {},
     "output_type": "execute_result"
    }
   ],
   "source": [
    "a1"
   ]
  },
  {
   "cell_type": "code",
   "execution_count": 18,
   "metadata": {},
   "outputs": [
    {
     "data": {
      "text/plain": [
       "5"
      ]
     },
     "execution_count": 18,
     "metadata": {},
     "output_type": "execute_result"
    }
   ],
   "source": [
    "a1[0]"
   ]
  },
  {
   "cell_type": "code",
   "execution_count": 19,
   "metadata": {},
   "outputs": [
    {
     "data": {
      "text/plain": [
       "6"
      ]
     },
     "execution_count": 19,
     "metadata": {},
     "output_type": "execute_result"
    }
   ],
   "source": [
    "a1[2]"
   ]
  },
  {
   "cell_type": "code",
   "execution_count": 20,
   "metadata": {},
   "outputs": [
    {
     "data": {
      "text/plain": [
       "8"
      ]
     },
     "execution_count": 20,
     "metadata": {},
     "output_type": "execute_result"
    }
   ],
   "source": [
    "a1[3]"
   ]
  },
  {
   "cell_type": "code",
   "execution_count": 21,
   "metadata": {},
   "outputs": [
    {
     "data": {
      "text/plain": [
       "64"
      ]
     },
     "execution_count": 21,
     "metadata": {},
     "output_type": "execute_result"
    }
   ],
   "source": [
    "a1[3]**2"
   ]
  },
  {
   "cell_type": "code",
   "execution_count": 22,
   "metadata": {},
   "outputs": [
    {
     "data": {
      "text/plain": [
       "array([11, 22, 33, 44])"
      ]
     },
     "execution_count": 22,
     "metadata": {},
     "output_type": "execute_result"
    }
   ],
   "source": [
    "#Replacing Elements \n",
    "a1[[0, 1, 2, 3]] = [11, 22, 33, 44]\n",
    "a1"
   ]
  },
  {
   "cell_type": "code",
   "execution_count": 23,
   "metadata": {},
   "outputs": [
    {
     "data": {
      "text/plain": [
       "array([11, 22])"
      ]
     },
     "execution_count": 23,
     "metadata": {},
     "output_type": "execute_result"
    }
   ],
   "source": [
    "a1[0:2]"
   ]
  },
  {
   "cell_type": "code",
   "execution_count": 24,
   "metadata": {},
   "outputs": [
    {
     "data": {
      "text/plain": [
       "array([11, 22, 33])"
      ]
     },
     "execution_count": 24,
     "metadata": {},
     "output_type": "execute_result"
    }
   ],
   "source": [
    "a1[0:3]"
   ]
  },
  {
   "cell_type": "code",
   "execution_count": 25,
   "metadata": {},
   "outputs": [
    {
     "data": {
      "text/plain": [
       "array([11, 22, 33, 44])"
      ]
     },
     "execution_count": 25,
     "metadata": {},
     "output_type": "execute_result"
    }
   ],
   "source": [
    "a1[:]"
   ]
  },
  {
   "cell_type": "code",
   "execution_count": 26,
   "metadata": {},
   "outputs": [
    {
     "data": {
      "text/plain": [
       "array([33, 44])"
      ]
     },
     "execution_count": 26,
     "metadata": {},
     "output_type": "execute_result"
    }
   ],
   "source": [
    "a1[2:]"
   ]
  },
  {
   "cell_type": "code",
   "execution_count": 27,
   "metadata": {},
   "outputs": [
    {
     "data": {
      "text/plain": [
       "array([11, 22])"
      ]
     },
     "execution_count": 27,
     "metadata": {},
     "output_type": "execute_result"
    }
   ],
   "source": [
    "a1[:2]"
   ]
  },
  {
   "cell_type": "code",
   "execution_count": 28,
   "metadata": {},
   "outputs": [
    {
     "data": {
      "text/plain": [
       "array([11, 22])"
      ]
     },
     "execution_count": 28,
     "metadata": {},
     "output_type": "execute_result"
    }
   ],
   "source": [
    "a1[:-2]"
   ]
  },
  {
   "cell_type": "code",
   "execution_count": 29,
   "metadata": {},
   "outputs": [
    {
     "data": {
      "text/plain": [
       "array([33, 44])"
      ]
     },
     "execution_count": 29,
     "metadata": {},
     "output_type": "execute_result"
    }
   ],
   "source": [
    "a1[-2:]"
   ]
  },
  {
   "cell_type": "code",
   "execution_count": 30,
   "metadata": {},
   "outputs": [
    {
     "data": {
      "text/plain": [
       "array([11, 33])"
      ]
     },
     "execution_count": 30,
     "metadata": {},
     "output_type": "execute_result"
    }
   ],
   "source": [
    "a1[::2] #step size 2"
   ]
  },
  {
   "cell_type": "code",
   "execution_count": 31,
   "metadata": {},
   "outputs": [
    {
     "data": {
      "text/plain": [
       "array([33, 44])"
      ]
     },
     "execution_count": 31,
     "metadata": {},
     "output_type": "execute_result"
    }
   ],
   "source": [
    "a1[a1>30] #Filtering the elements"
   ]
  },
  {
   "cell_type": "code",
   "execution_count": 32,
   "metadata": {},
   "outputs": [
    {
     "data": {
      "text/plain": [
       "array(['Netra', 'Nimesh'], dtype='<U9')"
      ]
     },
     "execution_count": 32,
     "metadata": {},
     "output_type": "execute_result"
    }
   ],
   "source": [
    "names = np.array(['Netra', 'Manandhar', 'Kumar', 'Bibek', 'Binod', 'Wagle', 'Nimesh'])\n",
    "first_letter_n = np.vectorize(lambda x: x[0])(names) == \"N\"\n",
    "names[first_letter_n]"
   ]
  },
  {
   "cell_type": "code",
   "execution_count": 33,
   "metadata": {},
   "outputs": [
    {
     "data": {
      "text/plain": [
       "array([ 0.        ,  0.52631579,  1.05263158,  1.57894737,  2.10526316,\n",
       "        2.63157895,  3.15789474,  3.68421053,  4.21052632,  4.73684211,\n",
       "        5.26315789,  5.78947368,  6.31578947,  6.84210526,  7.36842105,\n",
       "        7.89473684,  8.42105263,  8.94736842,  9.47368421, 10.        ])"
      ]
     },
     "execution_count": 33,
     "metadata": {},
     "output_type": "execute_result"
    }
   ],
   "source": [
    "a6"
   ]
  },
  {
   "cell_type": "code",
   "execution_count": 34,
   "metadata": {},
   "outputs": [
    {
     "data": {
      "text/plain": [
       "array([11, 22, 33, 44])"
      ]
     },
     "execution_count": 34,
     "metadata": {},
     "output_type": "execute_result"
    }
   ],
   "source": [
    "a1"
   ]
  },
  {
   "cell_type": "code",
   "execution_count": 35,
   "metadata": {},
   "outputs": [
    {
     "data": {
      "text/plain": [
       "array([3, 2, 1, 0], dtype=int32)"
      ]
     },
     "execution_count": 35,
     "metadata": {},
     "output_type": "execute_result"
    }
   ],
   "source": [
    "a1%4 #Reminder while dividing by 4"
   ]
  },
  {
   "cell_type": "code",
   "execution_count": 36,
   "metadata": {},
   "outputs": [
    {
     "data": {
      "text/plain": [
       "array([False, False, False,  True])"
      ]
     },
     "execution_count": 36,
     "metadata": {},
     "output_type": "execute_result"
    }
   ],
   "source": [
    "a1%4 == 0"
   ]
  },
  {
   "cell_type": "code",
   "execution_count": 37,
   "metadata": {},
   "outputs": [
    {
     "data": {
      "text/plain": [
       "array([44])"
      ]
     },
     "execution_count": 37,
     "metadata": {},
     "output_type": "execute_result"
    }
   ],
   "source": [
    "a1[a1%4 == 0]"
   ]
  },
  {
   "cell_type": "markdown",
   "metadata": {},
   "source": [
    "## Plotting the Graphs "
   ]
  },
  {
   "cell_type": "code",
   "execution_count": 38,
   "metadata": {},
   "outputs": [
    {
     "data": {
      "image/png": "[encoded data removed]",
      "text/plain": [
       "<Figure size 640x480 with 1 Axes>"
      ]
     },
     "metadata": {},
     "output_type": "display_data"
    }
   ],
   "source": [
    "plt.plot(a6, a6**2, 'o--')\n",
    "plt.show()"
   ]
  },
  {
   "cell_type": "code",
   "execution_count": 39,
   "metadata": {},
   "outputs": [
    {
     "data": {
      "image/png": "[encoded data removed]",
      "text/plain": [
       "<Figure size 640x480 with 1 Axes>"
      ]
     },
     "metadata": {},
     "output_type": "display_data"
    }
   ],
   "source": [
    "plt.plot(a6, a6**2, 'o--', color = 'purple')\n",
    "plt.show()"
   ]
  },
  {
   "cell_type": "code",
   "execution_count": 40,
   "metadata": {},
   "outputs": [
    {
     "data": {
      "text/plain": [
       "array([0.02958033, 0.76765075, 0.96267774, 0.92421205, 0.30719862])"
      ]
     },
     "execution_count": 40,
     "metadata": {},
     "output_type": "execute_result"
    }
   ],
   "source": [
    "a4"
   ]
  },
  {
   "cell_type": "code",
   "execution_count": 41,
   "metadata": {},
   "outputs": [
    {
     "data": {
      "image/png": "[encoded data removed]",
      "text/plain": [
       "<Figure size 640x480 with 1 Axes>"
      ]
     },
     "metadata": {},
     "output_type": "display_data"
    }
   ],
   "source": [
    "plt.hist(a4, bins = 10, color='green')\n",
    "plt.show()"
   ]
  },
  {
   "cell_type": "code",
   "execution_count": 42,
   "metadata": {},
   "outputs": [
    {
     "data": {
      "text/plain": [
       "[<matplotlib.lines.Line2D at 0x1fe609b5790>]"
      ]
     },
     "execution_count": 42,
     "metadata": {},
     "output_type": "execute_result"
    },
    {
     "data": {
      "image/png": "[encoded data removed]",
      "text/plain": [
       "<Figure size 640x480 with 1 Axes>"
      ]
     },
     "metadata": {},
     "output_type": "display_data"
    }
   ],
   "source": [
    "def f(x):\n",
    "    return x**2*np.sin(x)/np.exp(-x)\n",
    "plt.plot(a7, f(a7), color = 'purple')"
   ]
  },
  {
   "cell_type": "code",
   "execution_count": 43,
   "metadata": {},
   "outputs": [
    {
     "data": {
      "text/plain": [
       "array([ 0. ,  0.2,  0.4,  0.6,  0.8,  1. ,  1.2,  1.4,  1.6,  1.8,  2. ,\n",
       "        2.2,  2.4,  2.6,  2.8,  3. ,  3.2,  3.4,  3.6,  3.8,  4. ,  4.2,\n",
       "        4.4,  4.6,  4.8,  5. ,  5.2,  5.4,  5.6,  5.8,  6. ,  6.2,  6.4,\n",
       "        6.6,  6.8,  7. ,  7.2,  7.4,  7.6,  7.8,  8. ,  8.2,  8.4,  8.6,\n",
       "        8.8,  9. ,  9.2,  9.4,  9.6,  9.8, 10. , 10.2, 10.4, 10.6, 10.8,\n",
       "       11. , 11.2, 11.4, 11.6, 11.8, 12. , 12.2, 12.4, 12.6, 12.8, 13. ,\n",
       "       13.2, 13.4, 13.6, 13.8, 14. , 14.2, 14.4, 14.6, 14.8, 15. , 15.2,\n",
       "       15.4, 15.6, 15.8, 16. , 16.2, 16.4, 16.6, 16.8, 17. , 17.2, 17.4,\n",
       "       17.6, 17.8, 18. , 18.2, 18.4, 18.6, 18.8, 19. , 19.2, 19.4, 19.6,\n",
       "       19.8, 20. , 20.2, 20.4, 20.6, 20.8, 21. , 21.2, 21.4, 21.6, 21.8,\n",
       "       22. , 22.2, 22.4, 22.6, 22.8, 23. , 23.2, 23.4, 23.6, 23.8, 24. ,\n",
       "       24.2, 24.4, 24.6, 24.8, 25. , 25.2, 25.4, 25.6, 25.8, 26. , 26.2,\n",
       "       26.4, 26.6, 26.8, 27. , 27.2, 27.4, 27.6, 27.8, 28. , 28.2, 28.4,\n",
       "       28.6, 28.8, 29. , 29.2, 29.4, 29.6, 29.8, 30. , 30.2, 30.4, 30.6,\n",
       "       30.8, 31. , 31.2, 31.4, 31.6, 31.8, 32. , 32.2, 32.4, 32.6, 32.8,\n",
       "       33. , 33.2, 33.4, 33.6, 33.8, 34. , 34.2, 34.4, 34.6, 34.8, 35. ,\n",
       "       35.2, 35.4, 35.6, 35.8, 36. , 36.2, 36.4, 36.6, 36.8, 37. , 37.2,\n",
       "       37.4, 37.6, 37.8, 38. , 38.2, 38.4, 38.6, 38.8, 39. , 39.2, 39.4,\n",
       "       39.6, 39.8, 40. , 40.2, 40.4, 40.6, 40.8, 41. , 41.2, 41.4, 41.6,\n",
       "       41.8, 42. , 42.2, 42.4, 42.6, 42.8, 43. , 43.2, 43.4, 43.6, 43.8,\n",
       "       44. , 44.2, 44.4, 44.6, 44.8, 45. , 45.2, 45.4, 45.6, 45.8, 46. ,\n",
       "       46.2, 46.4, 46.6, 46.8, 47. , 47.2, 47.4, 47.6, 47.8, 48. , 48.2,\n",
       "       48.4, 48.6, 48.8, 49. , 49.2, 49.4, 49.6, 49.8])"
      ]
     },
     "execution_count": 43,
     "metadata": {},
     "output_type": "execute_result"
    }
   ],
   "source": [
    "a9 = np.arange(0, 50, 0.2)\n",
    "a9"
   ]
  },
  {
   "cell_type": "code",
   "execution_count": 44,
   "metadata": {},
   "outputs": [
    {
     "data": {
      "text/plain": [
       "[<matplotlib.lines.Line2D at 0x1fe62c92bd0>]"
      ]
     },
     "execution_count": 44,
     "metadata": {},
     "output_type": "execute_result"
    },
    {
     "data": {
      "image/png": "[encoded data removed]",
      "text/plain": [
       "<Figure size 640x480 with 1 Axes>"
      ]
     },
     "metadata": {},
     "output_type": "display_data"
    }
   ],
   "source": [
    "def f(x):\n",
    "    return x**2*np.sin(x)/np.exp(-x)\n",
    "plt.plot(a9, f(a9), color = 'purple')"
   ]
  },
  {
   "cell_type": "code",
   "execution_count": 45,
   "metadata": {},
   "outputs": [
    {
     "data": {
      "image/png": "[encoded data removed]",
      "text/plain": [
       "<Figure size 640x480 with 1 Axes>"
      ]
     },
     "metadata": {},
     "output_type": "display_data"
    }
   ],
   "source": [
    "a10 = np.linspace(-np.pi, np.pi, 201)\n",
    "def f(x):\n",
    "    return x**2*np.sin(x) - np.exp(-x)\n",
    "plt.plot(a10, f(a10), color = 'purple')\n",
    "plt.show()"
   ]
  },
  {
   "cell_type": "code",
   "execution_count": 46,
   "metadata": {},
   "outputs": [
    {
     "data": {
      "image/png": "[encoded data removed]",
      "text/plain": [
       "<Figure size 640x480 with 1 Axes>"
      ]
     },
     "metadata": {},
     "output_type": "display_data"
    }
   ],
   "source": [
    "a10 = np.linspace(-np.pi, np.pi, 200)\n",
    "def f(x):\n",
    "    return np.sin(x) \n",
    "plt.plot(a10, f(a10), color = 'purple')\n",
    "plt.show()"
   ]
  },
  {
   "cell_type": "markdown",
   "metadata": {},
   "source": [
    "# Calculus and Statistical Functions"
   ]
  },
  {
   "cell_type": "code",
   "execution_count": 47,
   "metadata": {},
   "outputs": [],
   "source": [
    "ar = 2*np.random.randn(1000) + 10"
   ]
  },
  {
   "cell_type": "code",
   "execution_count": 48,
   "metadata": {},
   "outputs": [
    {
     "data": {
      "text/plain": [
       "array([11.8572054 , 11.56731345, 12.41119893,  8.2076766 , 13.30872973,\n",
       "       10.36992727,  9.51551045,  8.2426764 ,  9.55063425,  9.28056014,\n",
       "        9.05196875, 14.04710667, 11.8215841 , 10.53198808, 12.96182203,\n",
       "       10.41473036, 13.19476472, 11.683121  , 12.14229741,  9.33069022,\n",
       "       10.8421113 , 11.65947065, 11.33677404,  7.8770965 ,  9.80603994,\n",
       "       10.95221922, 10.46152605, 11.05188618, 11.61353195, 12.29433715,\n",
       "       11.12494315, 10.91148745,  8.52087009, 13.24970747, 12.32054476,\n",
       "        6.23327651, 11.07155866,  8.18790907, 10.18179068,  5.1306662 ,\n",
       "        9.83991577,  5.28678628, 11.60576449, 15.65164825, 12.15389382,\n",
       "        9.46562455,  9.50565761,  8.65510636, 10.0640151 , 11.00224682,\n",
       "        7.9778938 ,  8.09297512, 10.4404142 ,  8.63227396, 12.95533058,\n",
       "       12.24706948,  7.83332559,  6.94593218, 10.40704968,  9.48610175,\n",
       "       10.8786182 ,  9.50570679,  9.26407143,  7.68743878,  6.98964009,\n",
       "        6.53074769,  6.77126191, 13.03703534, 10.83679483, 11.39879001,\n",
       "        9.65449666,  9.87540791, 12.80034497,  7.06328423,  8.99835977,\n",
       "       12.26466389,  9.46962867, 11.18924949,  9.27536   , 12.27991666,\n",
       "       11.44534252,  6.67341405, 12.22395713, 12.51710262,  9.68051757,\n",
       "       14.44804274, 12.27904278, 10.02716016,  7.21671671, 13.03664383,\n",
       "        9.82414782,  7.21375259,  8.76632896, 12.38113276, 11.64307559,\n",
       "       11.24409648, 10.61739604,  6.4808764 ,  7.70342008,  8.91784837,\n",
       "       13.41588082, 11.63813208, 10.35599805,  8.22339633, 10.10436475,\n",
       "       12.70625565, 12.91633379,  9.99350121, 11.38250489,  9.74591444,\n",
       "        8.41207345, 11.10020347,  7.30927704, 10.3409005 ,  9.11070615,\n",
       "       10.31521858, 11.30911467,  7.80150375,  9.93526128,  9.13061464,\n",
       "        8.60082628, 10.00276706,  8.56308852, 11.01849301, 10.23990565,\n",
       "        9.18470429, 10.73959134, 12.25720628,  8.51504919,  7.43709898,\n",
       "        8.62987032,  9.3019988 , 10.33875147,  9.31901338, 10.09775738,\n",
       "       10.86335571, 11.01994044,  9.84394747, 12.40012341, 11.181051  ,\n",
       "        8.6484147 ,  9.33752957, 13.7732981 , 11.85917353,  8.57043934,\n",
       "       11.18113184, 10.91877732, 10.28898387,  9.91938314, 13.0073246 ,\n",
       "       10.38769663,  7.95904803, 11.32853052, 11.65709973,  7.86307933,\n",
       "        8.42074307,  8.50129485, 10.43314812,  8.37838632, 13.09850922,\n",
       "       11.38489127,  8.44603875,  9.19665127,  9.37669473,  8.84896964,\n",
       "       11.57266835,  9.14354005,  7.76122589, 11.84851477, 10.12001417,\n",
       "       12.20463254,  6.50699361, 12.46663902,  7.85389303,  9.96940732,\n",
       "       11.2965355 ,  8.03437899, 13.73157359,  8.15271835, 13.41640778,\n",
       "       10.88981546,  8.08375662, 11.66521297, 10.10171004, 11.64790698,\n",
       "        9.65858567, 12.12565973,  4.98818519,  5.9761545 ,  7.24329619,\n",
       "       14.79201398,  9.02061878,  9.51842232,  9.32567929,  7.71676361,\n",
       "        9.02788774, 10.2641854 ,  7.94115619, 12.95726112,  8.82085684,\n",
       "        8.57642137,  8.93770257, 14.61709818,  7.60425093,  5.24492573,\n",
       "        5.45388409,  9.26231917,  7.19923861,  8.32668362,  7.59687457,\n",
       "       14.26738309,  9.25278226, 10.14829195,  7.88618342,  8.84995713,\n",
       "        8.4552391 , 11.05280694, 13.02745436,  8.75589852, 10.67807385,\n",
       "       10.8117349 ,  8.85788337,  7.0678508 ,  7.39515634, 12.01157215,\n",
       "       11.44162188,  8.77398523,  8.39210729,  8.06482521, 12.5493223 ,\n",
       "        8.51118686, 12.12782125, 11.96387107, 12.03970842,  8.78387855,\n",
       "       10.63951232,  6.55217748,  9.74277608,  8.25825014, 10.57971477,\n",
       "        8.28514521,  5.97078619,  9.12873216,  6.62073734,  7.03261994,\n",
       "        6.40113492,  6.09316471,  7.61121435,  8.66630768,  7.99462885,\n",
       "       11.65629689, 10.18422439, 12.3182753 ,  9.93462982, 14.25030489,\n",
       "       10.42185262,  7.62982657,  9.89864611, 13.98684166,  9.70542094,\n",
       "        9.30483084, 10.52613965, 12.88721473, 11.28233377,  6.55889606,\n",
       "        8.75691923,  9.69023038, 10.17699315,  9.84695682, 12.06191155,\n",
       "        6.56945987,  9.23321131,  9.58512465,  9.14352759, 14.72872292,\n",
       "        9.13946231, 12.80315958, 13.16960522, 11.70553555,  9.08327772,\n",
       "       11.18309385, 10.75961489, 11.93376003, 11.00818539, 12.50730203,\n",
       "        7.84996661,  7.37170977, 13.81931055, 10.23373153,  7.2395489 ,\n",
       "       14.7451766 , 14.00138302, 10.10137169, 11.53923094, 11.79477451,\n",
       "       10.05898767, 10.1869435 , 11.24276518, 12.49341217, 11.7774844 ,\n",
       "       10.29897028,  9.1181473 , 11.68389075,  6.23584205, 10.79185155,\n",
       "       10.86467894, 11.02459619, 12.57981435, 12.2836552 , 11.83970153,\n",
       "       10.81777042,  7.97488227,  8.58093994, 12.6013723 ,  9.34938816,\n",
       "        8.85489783,  8.24859796,  9.45108353, 11.66921689, 10.89929342,\n",
       "       11.40478773,  9.12372555, 11.83349171, 12.84039806,  9.03811952,\n",
       "       12.17292675, 11.84307493, 11.215386  , 10.95253445, 10.28217985,\n",
       "        9.9344567 , 10.32282753, 12.37267518,  7.81650265, 11.84896052,\n",
       "       11.69730715,  7.04362014,  6.93216791,  7.69955221, 11.54284302,\n",
       "       14.64932904,  9.16352464,  9.16421082,  9.27380963, 12.33674306,\n",
       "        9.98725799, 10.68382719,  7.10004081, 13.78590511, 12.26606278,\n",
       "        8.7864479 , 11.21026555, 12.41594125,  8.17984802, 13.23300771,\n",
       "        9.01233588, 10.31823915, 10.57141241, 13.0339094 , 13.54197272,\n",
       "       12.08400424,  8.36862946,  9.68103792,  4.68308646, 10.93324633,\n",
       "        5.81781038,  5.64660843,  8.60447674,  6.89994729,  6.76962764,\n",
       "       11.95376051,  9.43186438,  8.56086338, 10.31247326,  7.89182379,\n",
       "       10.15849551,  8.86670669, 10.26128787,  9.51381749,  9.40086515,\n",
       "        7.10577269, 11.75663115,  9.18759974, 10.6354701 , 12.94816798,\n",
       "        8.70542928,  9.87585092,  7.64776716, 11.37680674, 12.98393639,\n",
       "       10.52846163,  7.06344967,  6.80422567, 10.18541278,  7.01563061,\n",
       "       15.21204134, 10.70919905,  2.40073686,  9.2678011 ,  6.43986893,\n",
       "       10.10053516, 11.57088388,  6.73811942,  8.7523401 , 13.70370325,\n",
       "        7.70249913,  9.75001863,  8.07344144,  9.10238428,  9.68098651,\n",
       "        9.41926993,  7.53346687,  8.55721214,  5.98102827, 11.84724398,\n",
       "        8.63085338,  9.72673699,  6.19120396, 11.12632068,  6.67179819,\n",
       "       11.15339081,  8.15589238,  5.81099518,  9.27158218, 13.51506505,\n",
       "       11.13377274, 11.23716614, 11.6949561 ,  9.2550713 ,  8.76190926,\n",
       "       13.61956609, 10.08523004, 11.80984693,  9.36896576, 10.99837672,\n",
       "       10.06490718,  9.87846879, 10.07180415,  9.0203315 , 10.95631387,\n",
       "        9.13551099,  9.59187198, 10.19874186, 14.34467306, 12.0461916 ,\n",
       "        9.52293006, 10.21208155,  9.65899593,  9.07228852,  8.81346955,\n",
       "       10.96565395,  8.92107117,  8.32189489, 10.66036794,  9.29048319,\n",
       "       10.57408481,  8.19698791, 12.34044326,  9.88610773,  8.68497069,\n",
       "       10.675894  ,  9.13564575, 10.1701806 , 10.34961324, 11.58240727,\n",
       "       11.7022452 , 11.11349647, 10.79321421,  9.95912518, 10.38501043,\n",
       "       11.1677808 , 13.84196715, 10.407767  , 12.37696787,  9.20035591,\n",
       "       13.4789351 ,  7.69866177,  8.67872784,  4.74214638,  7.02265371,\n",
       "        7.48036941, 11.83293203,  7.73015463, 12.75391411, 10.21901476,\n",
       "        9.06523803, 13.06998589,  8.3431712 ,  9.36636161,  9.90087826,\n",
       "       10.24751111,  8.40998259, 11.46103253, 10.36944585, 13.84535351,\n",
       "        6.83017201,  9.54788096, 11.48409664,  6.65639374, 12.31308261,\n",
       "        9.03044064,  9.11480101,  8.27135991, 10.16786959,  6.59896333,\n",
       "        9.89155373, 11.52534774,  9.66775036,  9.98123815,  9.28372474,\n",
       "       11.03030232, 11.61050451,  8.41164219, 11.2310118 ,  9.32605059,\n",
       "       11.24727415,  7.47399827,  7.97747835,  7.31927773, 13.40289499,\n",
       "       11.98349218, 11.6314812 ,  7.92185744, 10.03273388,  9.73857758,\n",
       "       10.5060859 , 10.95560476, 13.33672179, 10.2540166 ,  6.7492619 ,\n",
       "        6.55403331,  8.87935272,  8.58367238,  9.5343304 , 10.91428344,\n",
       "        8.86220035, 10.07951625, 14.74931971,  9.44347808,  8.19051713,\n",
       "       10.87680279, 11.8579382 , 15.7891659 ,  6.38674426, 12.85277836,\n",
       "        9.37507687,  6.81503967, 11.38965561,  9.60574054, 12.16730295,\n",
       "        8.32751018,  9.65270608,  8.04474419,  9.58540935, 10.50986973,\n",
       "       12.87347042, 11.05135624,  7.29664369, 10.50157821,  6.72240432,\n",
       "       11.4878536 ,  9.0541179 ,  6.85126958, 10.95284693, 11.13519292,\n",
       "        8.03235446, 11.33418638, 10.19259539,  9.15200786,  7.33925835,\n",
       "       13.00003688, 11.35586174,  9.61549381, 10.07625774, 11.46451347,\n",
       "        7.88946181, 10.39013631,  6.78524789, 14.42684195,  7.33851012,\n",
       "       10.69116342,  6.05591653, 10.95070029,  8.16645537, 10.65600426,\n",
       "       13.50428167,  6.66204036, 11.43697278,  7.97708301,  9.86207342,\n",
       "       10.55873057,  7.16618033, 10.99972099, 11.51905656,  9.00662415,\n",
       "        7.57217441, 12.51554345,  9.62524022,  9.60049958,  9.04415723,\n",
       "        4.37420692,  9.2754513 ,  8.42759298,  9.2113765 ,  8.17147678,\n",
       "        8.33778179,  6.82828025,  9.19810037,  9.11824768,  9.84457862,\n",
       "        7.74059267, 14.59860989, 13.22138758, 10.56021216,  9.40124912,\n",
       "        7.01025227,  9.23123888, 10.61332005, 10.02615109,  7.08518129,\n",
       "       11.90045572,  7.3089577 ,  8.62491556,  6.84583592, 10.36052383,\n",
       "        9.03143708, 11.12157954, 13.09154526,  8.78378146, 11.07220574,\n",
       "       10.36038249, 11.47721987,  9.82448382,  9.95160639,  9.08619116,\n",
       "        7.60960588, 11.51789011, 12.03347894,  8.63684158, 13.06339954,\n",
       "        9.27408729, 11.0772447 ,  9.15914117, 12.41915388,  9.1947161 ,\n",
       "        9.24745706,  7.64716448,  7.40021589, 10.08753024, 13.19899833,\n",
       "        9.4470845 ,  7.2310544 ,  9.78502636, 12.53509378,  8.40203922,\n",
       "       10.86293545, 11.55840255, 11.00770758,  6.40771072, 10.41503446,\n",
       "        7.36627232, 10.46183477, 12.60782549, 10.3362212 ,  9.53734574,\n",
       "        9.29061877, 13.27988954,  8.2717993 , 11.42641647,  8.70103277,\n",
       "        8.31900893,  9.68733087, 10.26138777, 14.08910732, 10.18330882,\n",
       "        7.65203891, 11.1841365 ,  8.13837553, 10.03407075,  9.70453823,\n",
       "        7.40664611, 11.45004828, 13.00388439,  9.14439244,  9.96788105,\n",
       "       11.54697712,  8.23383136,  8.92456805,  8.39906029, 10.92866785,\n",
       "        7.57254914, 13.66249627, 13.54004621,  9.5850811 ,  9.47618932,\n",
       "       11.04874653, 10.8600934 ,  9.7564807 , 12.68220814,  8.56682456,\n",
       "        6.77042873, 10.20473845,  5.5113739 , 13.32258616, 10.47308362,\n",
       "        6.070497  , 10.38940189, 10.1256895 ,  8.30743827,  9.09362468,\n",
       "       10.66474012, 12.07149067,  7.3305174 , 10.64176159,  9.90333403,\n",
       "       10.53493432,  9.8028    ,  9.76687565, 12.48585152, 10.52158788,\n",
       "       12.65466171,  7.96900381,  6.95676085, 10.36968944, 11.76356595,\n",
       "        9.97018059, 12.36818477, 12.21875314, 10.08748295, 10.99353895,\n",
       "       13.64328914, 13.44685395, 10.41871688, 10.31634052,  8.58215373,\n",
       "        9.45755397, 10.71319536,  8.59920101,  8.64626228,  9.73329968,\n",
       "        9.19305264,  9.43968239, 10.68186901,  9.89180242, 12.96182685,\n",
       "       11.80897502, 14.08416459, 13.71744395,  9.15072323,  9.74540492,\n",
       "        9.01654568,  9.26350278,  8.93097261,  4.26296404, 11.47263124,\n",
       "       10.41763126, 12.50294504,  9.04421713, 11.94622026,  8.40777308,\n",
       "       12.94446516,  7.60960123,  9.53775072,  6.69590343, 10.96218245,\n",
       "       12.12360824,  7.6129095 ,  6.97351616, 10.09573043, 12.24091336,\n",
       "       12.27482492, 14.11643259,  8.5513249 , 12.4193081 ,  8.90787678,\n",
       "        9.44714656,  7.5838112 , 11.17712054, 11.04350877, 11.03504469,\n",
       "       11.6649189 , 12.73058035,  8.97820391,  9.76630723, 10.27585124,\n",
       "        9.67643739, 11.93479909, 11.26480228, 13.53505902, 12.23313943,\n",
       "        9.87787309, 12.35088885, 12.97126685,  6.18403436, 13.28249335,\n",
       "        7.29838783,  9.08938261,  8.11387414,  9.89198556,  9.36681937,\n",
       "        8.13991701, 10.54143236,  7.33840527, 11.14477645, 12.82108769,\n",
       "       10.07097045,  6.8775618 , 14.46377416,  9.68227345, 13.31526852,\n",
       "        9.89139424,  8.96277163,  7.81322997, 12.27314137,  8.98167825,\n",
       "       10.87679646,  8.78517868,  7.49297508,  8.01465956,  9.29308389,\n",
       "        9.90178299,  7.51351736, 12.67693794, 12.28376829, 10.55969777,\n",
       "        8.92863718, 15.12215113, 11.96460456,  7.28304857, 13.01973721,\n",
       "       13.0583943 ,  7.40480487,  9.64315443,  9.04569593,  5.72586514,\n",
       "       10.2208105 ,  7.571049  , 11.02530792, 12.75281737, 11.10356755,\n",
       "        9.38267765,  9.28549628, 11.30829718,  9.89665653, 11.0458103 ,\n",
       "       10.37262593,  9.52638493, 10.45094129,  7.95770817, 10.09132706,\n",
       "       12.21934208, 10.3863514 ,  8.28437646, 11.03744091, 15.03205574,\n",
       "       11.39665479,  7.38055741, 10.79510214, 10.33065559, 11.57831278,\n",
       "        8.50290878,  9.11181724,  8.7128694 ,  7.01605179,  9.04601663,\n",
       "       10.50953366, 11.71101323,  8.2205911 , 11.59654977,  8.78134073,\n",
       "        8.60777476,  6.58131968,  8.0997384 , 11.13299224,  5.49415352,\n",
       "       11.55503147, 11.24245044, 10.30500265,  9.01369975,  7.95916973,\n",
       "       12.80418548, 12.17206759,  7.2035284 ,  9.07777819, 10.71329291,\n",
       "       12.88639084, 10.87836114,  9.2194973 , 12.04539938,  7.18886259,\n",
       "       10.73320645,  6.16776387, 10.96392267, 12.35787645, 13.13111586,\n",
       "        8.34040971, 10.60897397, 10.69023302,  7.57171195, 10.89864845,\n",
       "       11.57716504,  8.73476472,  9.24831964, 10.92250794,  9.67282498,\n",
       "        7.95022253,  9.02262797, 10.46505327,  9.53604917, 10.49873979,\n",
       "        5.70649812, 13.08231757,  8.04824162,  6.71786501, 11.0520889 ,\n",
       "        8.98090432,  9.99336964, 12.88413601,  9.90316709,  6.38775502,\n",
       "       12.05393651, 10.46522647,  6.10720738, 11.21541007,  7.65139851,\n",
       "        7.08696732, 12.55117403,  9.78253913, 10.39122377,  8.04518475,\n",
       "       10.99508504,  7.68401184, 11.36290704,  9.11648544, 10.51436268,\n",
       "       12.80985298,  7.1691004 ,  9.93852862, 12.48741458,  6.81700139,\n",
       "        8.57318219,  6.13432135, 10.2317848 ,  9.80280275,  8.15854457,\n",
       "        9.48667919, 11.03756996, 11.4630473 , 10.75420188,  9.54936591,\n",
       "       10.61179152,  9.75097821,  6.18081933, 10.62622976, 10.66383232,\n",
       "       10.16665626,  9.9561525 ,  6.55097801,  7.22334133,  9.78062137,\n",
       "       12.53908531,  9.84112308,  7.49880111, 11.75466002,  8.0519329 ,\n",
       "       11.31095287, 10.96164359, 10.3534852 ,  8.13282606,  5.68462679,\n",
       "       10.62798578,  5.03646803, 10.80457634, 11.64763959,  5.82852519,\n",
       "       10.30098781,  9.75654768,  7.41921412, 13.1296176 , 10.86079244,\n",
       "       13.55918973,  9.36397535,  8.40081667, 10.19814189,  9.41337076,\n",
       "        9.07810227, 11.13468238, 10.02206305,  6.89481511, 13.88402101,\n",
       "       13.3088247 , 10.39527396,  6.9135636 , 10.06542973, 11.83758448,\n",
       "        9.14305815,  7.88347209,  9.42973892, 11.72418543,  8.96977581])"
      ]
     },
     "execution_count": 48,
     "metadata": {},
     "output_type": "execute_result"
    }
   ],
   "source": [
    "ar"
   ]
  },
  {
   "cell_type": "code",
   "execution_count": 49,
   "metadata": {},
   "outputs": [
    {
     "data": {
      "text/plain": [
       "9.964412977313405"
      ]
     },
     "execution_count": 49,
     "metadata": {},
     "output_type": "execute_result"
    }
   ],
   "source": [
    "#Mean \n",
    "np.mean(ar)"
   ]
  },
  {
   "cell_type": "code",
   "execution_count": 50,
   "metadata": {},
   "outputs": [
    {
     "data": {
      "text/plain": [
       "9.963503115312482"
      ]
     },
     "execution_count": 50,
     "metadata": {},
     "output_type": "execute_result"
    }
   ],
   "source": [
    "np.median(ar)"
   ]
  },
  {
   "cell_type": "code",
   "execution_count": 51,
   "metadata": {},
   "outputs": [
    {
     "data": {
      "text/plain": [
       "2.050858559448877"
      ]
     },
     "execution_count": 51,
     "metadata": {},
     "output_type": "execute_result"
    }
   ],
   "source": [
    "np.std(ar)"
   ]
  },
  {
   "cell_type": "code",
   "execution_count": 52,
   "metadata": {},
   "outputs": [
    {
     "data": {
      "text/plain": [
       "8.581850278957376"
      ]
     },
     "execution_count": 52,
     "metadata": {},
     "output_type": "execute_result"
    }
   ],
   "source": [
    "np.percentile(ar, 25)"
   ]
  },
  {
   "cell_type": "code",
   "execution_count": 53,
   "metadata": {},
   "outputs": [
    {
     "data": {
      "text/plain": [
       "11.378231278487137"
      ]
     },
     "execution_count": 53,
     "metadata": {},
     "output_type": "execute_result"
    }
   ],
   "source": [
    "np.percentile(ar, 75)"
   ]
  },
  {
   "cell_type": "code",
   "execution_count": 54,
   "metadata": {},
   "outputs": [
    {
     "data": {
      "text/plain": [
       "11.69542631041394"
      ]
     },
     "execution_count": 54,
     "metadata": {},
     "output_type": "execute_result"
    }
   ],
   "source": [
    "np.percentile(ar, 80)"
   ]
  },
  {
   "cell_type": "code",
   "execution_count": 55,
   "metadata": {},
   "outputs": [
    {
     "data": {
      "text/plain": [
       "4.206020830864722"
      ]
     },
     "execution_count": 55,
     "metadata": {},
     "output_type": "execute_result"
    }
   ],
   "source": [
    "np.var(ar)"
   ]
  },
  {
   "cell_type": "code",
   "execution_count": 56,
   "metadata": {},
   "outputs": [
    {
     "data": {
      "text/plain": [
       "array([[1.        , 0.99055113],\n",
       "       [0.99055113, 1.        ]])"
      ]
     },
     "execution_count": 56,
     "metadata": {},
     "output_type": "execute_result"
    }
   ],
   "source": [
    "np.corrcoef(ar, ar**2) #Correlation Coefficient "
   ]
  },
  {
   "cell_type": "code",
   "execution_count": 57,
   "metadata": {},
   "outputs": [
    {
     "data": {
      "text/plain": [
       "(array([11, 22, 33, 44, 55, 66, 77]), array([24, 72, 30, 52, 40, 18, 69]))"
      ]
     },
     "execution_count": 57,
     "metadata": {},
     "output_type": "execute_result"
    }
   ],
   "source": [
    "a = np.array([11, 22, 33, 44, 55, 66, 77])\n",
    "b = np.random.randint(0, 100, 7)\n",
    "a, b"
   ]
  },
  {
   "cell_type": "code",
   "execution_count": 58,
   "metadata": {},
   "outputs": [
    {
     "data": {
      "text/plain": [
       "array([[1.        , 0.13310386],\n",
       "       [0.13310386, 1.        ]])"
      ]
     },
     "execution_count": 58,
     "metadata": {},
     "output_type": "execute_result"
    }
   ],
   "source": [
    "#Correlation Coefficient \n",
    "np.corrcoef(a, b)"
   ]
  },
  {
   "cell_type": "markdown",
   "metadata": {},
   "source": [
    "# Integral and Derivatives "
   ]
  },
  {
   "cell_type": "code",
   "execution_count": 59,
   "metadata": {},
   "outputs": [],
   "source": [
    "x = np.linspace(1, 10, 100)\n",
    "y = 1/x**2 * np.sin(x)\n",
    "dydx = np.gradient(y, x)\n",
    "y_integral = np.cumsum(y)*(x[1]-x[0]) #Integral of y wrt x and the step size is x[1]-x[0] (y-x)"
   ]
  },
  {
   "attachments": {
    "image.png": {
     "image/png": "[encoded data removed]"
    }
   },
   "cell_type": "markdown",
   "metadata": {},
   "source": [
    "![image.png](attachment:image.png)"
   ]
  },
  {
   "cell_type": "code",
   "execution_count": 60,
   "metadata": {},
   "outputs": [
    {
     "data": {
      "text/plain": [
       "[<matplotlib.lines.Line2D at 0x1fe62deeb50>]"
      ]
     },
     "execution_count": 60,
     "metadata": {},
     "output_type": "execute_result"
    },
    {
     "data": {
      "image/png": "[encoded data removed]",
      "text/plain": [
       "<Figure size 640x480 with 1 Axes>"
      ]
     },
     "metadata": {},
     "output_type": "display_data"
    }
   ],
   "source": [
    "plt.plot(x, y)\n",
    "plt.plot(x, dydx)\n",
    "plt.plot(x, y_integral)"
   ]
  },
  {
   "cell_type": "markdown",
   "metadata": {},
   "source": [
    "## Question 1:\n",
    "\n",
    "Let $y=e^{-x/10} \\sin(x)$. Consider 10000 $x$ intervals in the range $[0,10]$\n",
    "\n",
    "1. Plot the function $y$ vs. $x$ in the range $[0, 10]$. \n",
    "2. Compute the mean and standard deviation of $y$ for $x$ values in $[4,7]$\n",
    "3. For $x$ in the range $[4,7]$, find the value $y_m$ such that 80% of $y$ values are less than $y_m$\n",
    "4. Plot $dy/dx$ vs $x$\n",
    "5. Find the locations where $dy/dx=0$ "
   ]
  },
  {
   "cell_type": "code",
   "execution_count": 61,
   "metadata": {},
   "outputs": [
    {
     "data": {
      "text/plain": [
       "[<matplotlib.lines.Line2D at 0x1fe62e602d0>]"
      ]
     },
     "execution_count": 61,
     "metadata": {},
     "output_type": "execute_result"
    },
    {
     "data": {
      "image/png": "[encoded data removed]",
      "text/plain": [
       "<Figure size 640x480 with 1 Axes>"
      ]
     },
     "metadata": {},
     "output_type": "display_data"
    }
   ],
   "source": [
    "#1 \n",
    "N = 10000\n",
    "x = np.linspace(0, 10, N+1)\n",
    "y = np.exp(-x/10) * np.sin(x)\n",
    "plt.plot(x,y)"
   ]
  },
  {
   "cell_type": "code",
   "execution_count": 62,
   "metadata": {},
   "outputs": [
    {
     "data": {
      "text/plain": [
       "0.31448753875085117"
      ]
     },
     "execution_count": 62,
     "metadata": {},
     "output_type": "execute_result"
    }
   ],
   "source": [
    "#2 Calulating Mean and Standard Deviation \n",
    "np.mean(y[(x>=4)*(x<=7)])\n",
    "np.std(y[(x>=4)*(x<=7)])"
   ]
  },
  {
   "cell_type": "code",
   "execution_count": 63,
   "metadata": {},
   "outputs": [
    {
     "data": {
      "text/plain": [
       "0.06145551274590662"
      ]
     },
     "execution_count": 63,
     "metadata": {},
     "output_type": "execute_result"
    }
   ],
   "source": [
    "#3 Percentile (80%)\n",
    "np.percentile(y[(x>=4)*(x<=7)], 80)"
   ]
  },
  {
   "cell_type": "code",
   "execution_count": 64,
   "metadata": {},
   "outputs": [
    {
     "data": {
      "text/plain": [
       "[<matplotlib.lines.Line2D at 0x1fe6097a7d0>]"
      ]
     },
     "execution_count": 64,
     "metadata": {},
     "output_type": "execute_result"
    },
    {
     "data": {
      "image/png": "[encoded data removed]",
      "text/plain": [
       "<Figure size 640x480 with 1 Axes>"
      ]
     },
     "metadata": {},
     "output_type": "display_data"
    }
   ],
   "source": [
    "plt.plot(x, np.gradient(y, x))"
   ]
  },
  {
   "cell_type": "code",
   "execution_count": 65,
   "metadata": {},
   "outputs": [
    {
     "data": {
      "text/plain": [
       "array([1.472, 4.613, 7.755])"
      ]
     },
     "execution_count": 65,
     "metadata": {},
     "output_type": "execute_result"
    }
   ],
   "source": [
    "#4 Location where dy/dx = 0\n",
    "dydx = np.gradient(y, x)\n",
    "x[1:][dydx[1:] * dydx[:-1] < 0]"
   ]
  },
  {
   "attachments": {
    "image.png": {
     "image/png": "[encoded data removed]"
    }
   },
   "cell_type": "markdown",
   "metadata": {},
   "source": [
    "![image.png](attachment:image.png)"
   ]
  },
  {
   "cell_type": "code",
   "execution_count": 66,
   "metadata": {},
   "outputs": [
    {
     "data": {
      "text/plain": [
       "(array([6.084]), array([2.942, 9.225]))"
      ]
     },
     "execution_count": 66,
     "metadata": {},
     "output_type": "execute_result"
    }
   ],
   "source": [
    "# Alternative method\n",
    "from scipy.signal import argrelextrema\n",
    "\n",
    "# Calculate the derivative of y with respect to x\n",
    "dydx = np.gradient(y, x)\n",
    "\n",
    "# Find the indices where y has a local maxima or minima\n",
    "maxima = argrelextrema(dydx, np.greater)\n",
    "minima = argrelextrema(dydx, np.less)\n",
    "\n",
    "# Get the x values at these indices\n",
    "x_maxima = x[maxima]\n",
    "x_minima = x[minima]\n",
    "x_maxima, x_minima\n"
   ]
  },
  {
   "cell_type": "markdown",
   "metadata": {},
   "source": [
    "# Question 2:\n",
    "\n",
    "Sum together every number from 0 to 10000 except for those than can be divided by 4 or 7. Do this in one line of code"
   ]
  },
  {
   "cell_type": "code",
   "execution_count": 67,
   "metadata": {},
   "outputs": [
    {
     "data": {
      "text/plain": [
       "32147142"
      ]
     },
     "execution_count": 67,
     "metadata": {},
     "output_type": "execute_result"
    }
   ],
   "source": [
    "np.arange(0,10001,1)[(np.arange(0,10001,1)%4!=0)*(np.arange(0,10001,1)%7!=0)].sum()"
   ]
  },
  {
   "cell_type": "markdown",
   "metadata": {},
   "source": [
    "## Question 3:\n",
    "\n",
    "Consider the flower petal $r(\\theta) = 1+\\frac{3}{4}\\sin(3 \\theta)$ for $0 \\leq \\theta \\leq 2 \\pi$\n",
    "\n",
    "1. Make a plot of the flower (find x and y points)\n",
    "2. Compute the area using the calculus formula $A = \\int_{0}^{2\\pi} \\frac{1}{2} r^2 d\\theta$\n",
    "3. Compute the arclength using the calculus formula $L = \\int_{0}^{2 \\pi} \\sqrt{r^2 + \\left(\\frac{dr}{d\\theta}\\right)^2} d\\theta$"
   ]
  },
  {
   "cell_type": "code",
   "execution_count": 68,
   "metadata": {},
   "outputs": [],
   "source": [
    "#Rule to bring above mathematical expression\n",
    "\n",
    "# Consider the flower petal $r(\\theta) = 1+\\frac{3}{4}\\sin(3 \\theta)$ for $0 \\leq \\theta \\leq 2 \\pi$\n",
    "\n",
    "# 1. Make a plot of the flower (find x and y points)\n",
    "# 2. Compute the area using the calculus formula $A = \\int_{0}^{2\\pi} \\frac{1}{2} r^2 d\\theta$\n",
    "# 3. Compute the arclength using the calculus formula $L = \\int_{0}^{2 \\pi} \\sqrt{r^2 + \\left(\\frac{dr}{d\\theta}\\right)^2} d\\theta$"
   ]
  },
  {
   "cell_type": "code",
   "execution_count": 69,
   "metadata": {},
   "outputs": [
    {
     "data": {
      "text/plain": [
       "[<matplotlib.lines.Line2D at 0x1fe608a4d90>]"
      ]
     },
     "execution_count": 69,
     "metadata": {},
     "output_type": "execute_result"
    },
    {
     "data": {
      "image/png": "[encoded data removed]",
      "text/plain": [
       "<Figure size 640x480 with 1 Axes>"
      ]
     },
     "metadata": {},
     "output_type": "display_data"
    }
   ],
   "source": [
    "#1 \n",
    "theta = np.linspace(0, 2*np.pi, 10000)\n",
    "r = 1 + 3/4*np.sin(3*theta)\n",
    "x = r*np.cos(theta)\n",
    "y = r*np.sin(theta)\n",
    "plt.plot(x, y)"
   ]
  },
  {
   "cell_type": "code",
   "execution_count": 70,
   "metadata": {},
   "outputs": [
    {
     "data": {
      "text/plain": [
       "4.025479778096348"
      ]
     },
     "execution_count": 70,
     "metadata": {},
     "output_type": "execute_result"
    }
   ],
   "source": [
    "# 2. Compute the area using the calculus formula $A = \\int_{0}^{2\\pi} \\frac{1}{2} r^2 d\\theta$\n",
    "A = 1/2 * sum(r**2)* (theta[1]-theta[0])\n",
    "A"
   ]
  },
  {
   "cell_type": "code",
   "execution_count": 71,
   "metadata": {},
   "outputs": [
    {
     "data": {
      "text/plain": [
       "11.626531213518831"
      ]
     },
     "execution_count": 71,
     "metadata": {},
     "output_type": "execute_result"
    }
   ],
   "source": [
    "# 3. Compute the arclength using the calculus formula $L = \\int_{0}^{2 \\pi} \\sqrt{r^2 + \\left(\\frac{dr}{d\\theta}\\right)^2} d\\theta$\n",
    "L = sum(np.sqrt(r**2 + np.gradient(r, theta)**2))*(theta[1]-theta[0])\n",
    "L"
   ]
  },
  {
   "cell_type": "markdown",
   "metadata": {},
   "source": [
    "# Multidimentional Array"
   ]
  },
  {
   "cell_type": "code",
   "execution_count": 72,
   "metadata": {},
   "outputs": [
    {
     "data": {
      "text/plain": [
       "array([[1, 2, 3],\n",
       "       [4, 5, 6],\n",
       "       [7, 8, 9]])"
      ]
     },
     "execution_count": 72,
     "metadata": {},
     "output_type": "execute_result"
    }
   ],
   "source": [
    "a1 = np.array([[1, 2, 3], [4, 5, 6], [7, 8, 9]]) #2D Array \n",
    "a1"
   ]
  },
  {
   "cell_type": "markdown",
   "metadata": {},
   "source": [
    "# Operations in 2D Array"
   ]
  },
  {
   "cell_type": "code",
   "execution_count": 73,
   "metadata": {},
   "outputs": [
    {
     "data": {
      "text/plain": [
       "array([[ 2,  4,  6],\n",
       "       [ 8, 10, 12],\n",
       "       [14, 16, 18]])"
      ]
     },
     "execution_count": 73,
     "metadata": {},
     "output_type": "execute_result"
    }
   ],
   "source": [
    "a1*2"
   ]
  },
  {
   "cell_type": "code",
   "execution_count": 74,
   "metadata": {},
   "outputs": [
    {
     "data": {
      "text/plain": [
       "array([[ 1,  4,  9],\n",
       "       [16, 25, 36],\n",
       "       [49, 64, 81]])"
      ]
     },
     "execution_count": 74,
     "metadata": {},
     "output_type": "execute_result"
    }
   ],
   "source": [
    "a1**2"
   ]
  },
  {
   "cell_type": "code",
   "execution_count": 75,
   "metadata": {},
   "outputs": [
    {
     "data": {
      "text/plain": [
       "array([[0.25, 0.5 , 0.75],\n",
       "       [1.  , 1.25, 1.5 ],\n",
       "       [1.75, 2.  , 2.25]])"
      ]
     },
     "execution_count": 75,
     "metadata": {},
     "output_type": "execute_result"
    }
   ],
   "source": [
    "a1/4"
   ]
  },
  {
   "cell_type": "code",
   "execution_count": 76,
   "metadata": {},
   "outputs": [
    {
     "data": {
      "text/plain": [
       "array([[2.        , 1.        , 0.66666667],\n",
       "       [0.5       , 0.4       , 0.33333333],\n",
       "       [0.28571429, 0.25      , 0.22222222]])"
      ]
     },
     "execution_count": 76,
     "metadata": {},
     "output_type": "execute_result"
    }
   ],
   "source": [
    "2/a1"
   ]
  },
  {
   "cell_type": "code",
   "execution_count": 77,
   "metadata": {},
   "outputs": [
    {
     "data": {
      "text/plain": [
       "array([[ 2,  4,  6],\n",
       "       [ 8, 10, 12],\n",
       "       [14, 16, 18]])"
      ]
     },
     "execution_count": 77,
     "metadata": {},
     "output_type": "execute_result"
    }
   ],
   "source": [
    "a2 = 2*a1\n",
    "a2"
   ]
  },
  {
   "cell_type": "code",
   "execution_count": 78,
   "metadata": {},
   "outputs": [
    {
     "data": {
      "text/plain": [
       "array([ 2,  4,  6,  8, 10, 12, 14, 16, 18])"
      ]
     },
     "execution_count": 78,
     "metadata": {},
     "output_type": "execute_result"
    }
   ],
   "source": [
    "#Changing n-dimensional Array to 1D \n",
    "a2.flatten()"
   ]
  },
  {
   "cell_type": "code",
   "execution_count": 79,
   "metadata": {},
   "outputs": [
    {
     "data": {
      "text/plain": [
       "array([ 2,  4,  6,  8, 10, 12, 14, 16, 18])"
      ]
     },
     "execution_count": 79,
     "metadata": {},
     "output_type": "execute_result"
    }
   ],
   "source": [
    "a2.ravel()"
   ]
  },
  {
   "cell_type": "code",
   "execution_count": null,
   "metadata": {},
   "outputs": [],
   "source": []
  },
  {
   "cell_type": "code",
   "execution_count": 80,
   "metadata": {},
   "outputs": [
    {
     "data": {
      "text/plain": [
       "array([[False, False, False],\n",
       "       [False, False,  True],\n",
       "       [ True,  True,  True]])"
      ]
     },
     "execution_count": 80,
     "metadata": {},
     "output_type": "execute_result"
    }
   ],
   "source": [
    "a1>5"
   ]
  },
  {
   "cell_type": "code",
   "execution_count": 81,
   "metadata": {},
   "outputs": [
    {
     "data": {
      "text/plain": [
       "array([[ True,  True,  True],\n",
       "       [ True,  True,  True],\n",
       "       [ True,  True,  True]])"
      ]
     },
     "execution_count": 81,
     "metadata": {},
     "output_type": "execute_result"
    }
   ],
   "source": [
    "a1 < 10"
   ]
  },
  {
   "cell_type": "code",
   "execution_count": 82,
   "metadata": {},
   "outputs": [
    {
     "data": {
      "text/plain": [
       "array([[ True,  True,  True],\n",
       "       [ True, False, False],\n",
       "       [False, False, False]])"
      ]
     },
     "execution_count": 82,
     "metadata": {},
     "output_type": "execute_result"
    }
   ],
   "source": [
    "a1<5"
   ]
  },
  {
   "cell_type": "markdown",
   "metadata": {},
   "source": [
    "## Slicing"
   ]
  },
  {
   "cell_type": "code",
   "execution_count": 83,
   "metadata": {},
   "outputs": [
    {
     "data": {
      "text/plain": [
       "array([[1, 2, 3],\n",
       "       [4, 5, 6],\n",
       "       [7, 8, 9]])"
      ]
     },
     "execution_count": 83,
     "metadata": {},
     "output_type": "execute_result"
    }
   ],
   "source": [
    "a1"
   ]
  },
  {
   "cell_type": "code",
   "execution_count": 84,
   "metadata": {},
   "outputs": [
    {
     "data": {
      "text/plain": [
       "array([1, 2, 3])"
      ]
     },
     "execution_count": 84,
     "metadata": {},
     "output_type": "execute_result"
    }
   ],
   "source": [
    "a1[0]"
   ]
  },
  {
   "cell_type": "code",
   "execution_count": 85,
   "metadata": {},
   "outputs": [
    {
     "data": {
      "text/plain": [
       "8"
      ]
     },
     "execution_count": 85,
     "metadata": {},
     "output_type": "execute_result"
    }
   ],
   "source": [
    "a1[2, 1] #Third row, second column element "
   ]
  },
  {
   "cell_type": "code",
   "execution_count": 86,
   "metadata": {},
   "outputs": [
    {
     "data": {
      "text/plain": [
       "array([[ 1.85706178,  0.50613249, -0.36447793],\n",
       "       [-1.26912583,  1.06185887,  1.15340039],\n",
       "       [-1.87679212,  0.32305685, -0.47459439]])"
      ]
     },
     "execution_count": 86,
     "metadata": {},
     "output_type": "execute_result"
    }
   ],
   "source": [
    "a2 = np.random.randn(3, 3)\n",
    "a2"
   ]
  },
  {
   "cell_type": "code",
   "execution_count": 87,
   "metadata": {},
   "outputs": [
    {
     "data": {
      "text/plain": [
       "array([ 1.15340039, -1.87679212,  0.32305685, -0.47459439])"
      ]
     },
     "execution_count": 87,
     "metadata": {},
     "output_type": "execute_result"
    }
   ],
   "source": [
    "a2[a1>5]"
   ]
  },
  {
   "cell_type": "code",
   "execution_count": 88,
   "metadata": {},
   "outputs": [
    {
     "data": {
      "text/plain": [
       "array([2, 5, 8])"
      ]
     },
     "execution_count": 88,
     "metadata": {},
     "output_type": "execute_result"
    }
   ],
   "source": [
    "a1[:, 1]"
   ]
  },
  {
   "cell_type": "code",
   "execution_count": 89,
   "metadata": {},
   "outputs": [
    {
     "data": {
      "text/plain": [
       "array([[1, 2, 3],\n",
       "       [4, 5, 6],\n",
       "       [7, 8, 9]])"
      ]
     },
     "execution_count": 89,
     "metadata": {},
     "output_type": "execute_result"
    }
   ],
   "source": [
    "a1"
   ]
  },
  {
   "cell_type": "code",
   "execution_count": 90,
   "metadata": {},
   "outputs": [
    {
     "data": {
      "text/plain": [
       "array([5, 8])"
      ]
     },
     "execution_count": 90,
     "metadata": {},
     "output_type": "execute_result"
    }
   ],
   "source": [
    "a1[1:][:, 1]"
   ]
  },
  {
   "cell_type": "code",
   "execution_count": 91,
   "metadata": {},
   "outputs": [
    {
     "data": {
      "text/plain": [
       "array([[1, 2, 3, 4, 5, 6],\n",
       "       [7, 8, 9, 1, 2, 3],\n",
       "       [4, 5, 6, 7, 8, 9],\n",
       "       [1, 2, 3, 4, 5, 6],\n",
       "       [7, 8, 9, 1, 2, 3],\n",
       "       [4, 5, 6, 7, 8, 9]])"
      ]
     },
     "execution_count": 91,
     "metadata": {},
     "output_type": "execute_result"
    }
   ],
   "source": [
    "b1 = np.resize(a1, (6, 6))\n",
    "b1"
   ]
  },
  {
   "cell_type": "code",
   "execution_count": 92,
   "metadata": {},
   "outputs": [
    {
     "data": {
      "text/plain": [
       "array([[4, 5, 6],\n",
       "       [7, 8, 9],\n",
       "       [1, 2, 3]])"
      ]
     },
     "execution_count": 92,
     "metadata": {},
     "output_type": "execute_result"
    }
   ],
   "source": [
    "b1[0:5:2][:, 3:]"
   ]
  },
  {
   "cell_type": "markdown",
   "metadata": {},
   "source": [
    "# Dealing with 2D Functions"
   ]
  },
  {
   "cell_type": "code",
   "execution_count": 93,
   "metadata": {},
   "outputs": [],
   "source": [
    "x = np.linspace(0, 10, 1000)\n",
    "y = np.linspace(0, 5, 500)"
   ]
  },
  {
   "cell_type": "code",
   "execution_count": 94,
   "metadata": {},
   "outputs": [
    {
     "ename": "ValueError",
     "evalue": "operands could not be broadcast together with shapes (1000,) (500,) ",
     "output_type": "error",
     "traceback": [
      "\u001b[1;31m---------------------------------------------------------------------------\u001b[0m",
      "\u001b[1;31mValueError\u001b[0m                                Traceback (most recent call last)",
      "Cell \u001b[1;32mIn[94], line 1\u001b[0m\n\u001b[1;32m----> 1\u001b[0m z \u001b[38;5;241m=\u001b[39m \u001b[43mx\u001b[49m\u001b[38;5;241;43m*\u001b[39;49m\u001b[38;5;241;43m*\u001b[39;49m\u001b[38;5;241;43m2\u001b[39;49m\u001b[43m \u001b[49m\u001b[38;5;241;43m+\u001b[39;49m\u001b[43m \u001b[49m\u001b[43my\u001b[49m\u001b[38;5;241;43m*\u001b[39;49m\u001b[38;5;241;43m*\u001b[39;49m\u001b[38;5;241;43m2\u001b[39;49m \n\u001b[0;32m      2\u001b[0m z\n",
      "\u001b[1;31mValueError\u001b[0m: operands could not be broadcast together with shapes (1000,) (500,) "
     ]
    }
   ],
   "source": [
    "z = x**2 + y**2 \n",
    "z"
   ]
  },
  {
   "cell_type": "markdown",
   "metadata": {},
   "source": [
    "### Need to use meshgrid"
   ]
  },
  {
   "cell_type": "code",
   "execution_count": null,
   "metadata": {},
   "outputs": [
    {
     "data": {
      "text/plain": [
       "array([[0.00000000e+00, 1.00200300e-04, 4.00801202e-04, ...,\n",
       "        9.96000004e+01, 9.97999000e+01, 1.00000000e+02],\n",
       "       [1.00401203e-04, 2.00601504e-04, 5.01202405e-04, ...,\n",
       "        9.96001008e+01, 9.98000004e+01, 1.00000100e+02],\n",
       "       [4.01604813e-04, 5.01805113e-04, 8.02406014e-04, ...,\n",
       "        9.96004020e+01, 9.98003016e+01, 1.00000402e+02],\n",
       "       ...,\n",
       "       [2.48000008e+01, 2.48001010e+01, 2.48004016e+01, ...,\n",
       "        1.24400001e+02, 1.24599901e+02, 1.24800001e+02],\n",
       "       [2.48999000e+01, 2.49000002e+01, 2.49003008e+01, ...,\n",
       "        1.24499900e+02, 1.24699800e+02, 1.24899900e+02],\n",
       "       [2.50000000e+01, 2.50001002e+01, 2.50004008e+01, ...,\n",
       "        1.24600000e+02, 1.24799900e+02, 1.25000000e+02]])"
      ]
     },
     "execution_count": 214,
     "metadata": {},
     "output_type": "execute_result"
    }
   ],
   "source": [
    "xv, yv = np.meshgrid(x, y)\n",
    "zv = xv**2 + yv**2\n",
    "zv"
   ]
  },
  {
   "cell_type": "code",
   "execution_count": null,
   "metadata": {},
   "outputs": [
    {
     "data": {
      "image/png": "[encoded data removed]",
      "text/plain": [
       "<Figure size 640x480 with 2 Axes>"
      ]
     },
     "metadata": {},
     "output_type": "display_data"
    }
   ],
   "source": [
    "plt.contourf(xv, yv, zv, levels = 50) #Countour Plot \n",
    "plt.colorbar()\n",
    "plt.show()  "
   ]
  },
  {
   "cell_type": "markdown",
   "metadata": {},
   "source": [
    "# Basic Linear Algebra"
   ]
  },
  {
   "cell_type": "markdown",
   "metadata": {},
   "source": [
    "## Matrix Operations "
   ]
  },
  {
   "cell_type": "code",
   "execution_count": null,
   "metadata": {},
   "outputs": [
    {
     "data": {
      "text/plain": [
       "(array([[ 3,  2,  1],\n",
       "        [ 5, -5,  4],\n",
       "        [ 6,  0,  1]]),\n",
       " array([1, 2, 3]),\n",
       " array([-1,  2, -5]))"
      ]
     },
     "execution_count": 217,
     "metadata": {},
     "output_type": "execute_result"
    }
   ],
   "source": [
    "A = np.array([[3, 2, 1], [5, -5, 4], [6, 0, 1]])\n",
    "b1 = np.array([1, 2, 3])\n",
    "b2 = np.array([-1, 2, -5])\n",
    "A, b1, b2"
   ]
  },
  {
   "cell_type": "code",
   "execution_count": null,
   "metadata": {},
   "outputs": [
    {
     "data": {
      "text/plain": [
       "array([10,  7,  9])"
      ]
     },
     "execution_count": 218,
     "metadata": {},
     "output_type": "execute_result"
    }
   ],
   "source": [
    "A@b1 #Matrix Multiplication "
   ]
  },
  {
   "cell_type": "code",
   "execution_count": null,
   "metadata": {},
   "outputs": [
    {
     "data": {
      "text/plain": [
       "array([[  3,   4,   3],\n",
       "       [  5, -10,  12],\n",
       "       [  6,   0,   3]])"
      ]
     },
     "execution_count": 222,
     "metadata": {},
     "output_type": "execute_result"
    }
   ],
   "source": [
    "b1*A #Element wise multiplication [3*1, 2*2, 1*3], [5*1, -5*2, 4*3], [6*1, 0*2, 1*3]"
   ]
  },
  {
   "cell_type": "code",
   "execution_count": null,
   "metadata": {},
   "outputs": [
    {
     "data": {
      "text/plain": [
       "array([[  3,   4,   3],\n",
       "       [  5, -10,  12],\n",
       "       [  6,   0,   3]])"
      ]
     },
     "execution_count": 219,
     "metadata": {},
     "output_type": "execute_result"
    }
   ],
   "source": [
    "A*b1 #Element wise multiplication [3*1, 2*2, 1*3], [5*1, -5*2, 4*3], [6*1, 0*2, 1*3]"
   ]
  },
  {
   "cell_type": "code",
   "execution_count": null,
   "metadata": {},
   "outputs": [
    {
     "data": {
      "text/plain": [
       "array([[ 3,  2,  1],\n",
       "       [ 5, -5,  4],\n",
       "       [ 6,  0,  1]])"
      ]
     },
     "execution_count": 223,
     "metadata": {},
     "output_type": "execute_result"
    }
   ],
   "source": [
    "A"
   ]
  },
  {
   "cell_type": "code",
   "execution_count": null,
   "metadata": {},
   "outputs": [
    {
     "data": {
      "text/plain": [
       "array([[ 3,  5,  6],\n",
       "       [ 2, -5,  0],\n",
       "       [ 1,  4,  1]])"
      ]
     },
     "execution_count": 224,
     "metadata": {},
     "output_type": "execute_result"
    }
   ],
   "source": [
    "A.T"
   ]
  },
  {
   "cell_type": "code",
   "execution_count": null,
   "metadata": {},
   "outputs": [
    {
     "data": {
      "text/plain": [
       "-12"
      ]
     },
     "execution_count": 225,
     "metadata": {},
     "output_type": "execute_result"
    }
   ],
   "source": [
    "np.dot(b1, b2)"
   ]
  },
  {
   "cell_type": "code",
   "execution_count": null,
   "metadata": {},
   "outputs": [
    {
     "data": {
      "text/plain": [
       "array([-16,   2,   4])"
      ]
     },
     "execution_count": 228,
     "metadata": {},
     "output_type": "execute_result"
    }
   ],
   "source": [
    "np.cross(b1, b2)"
   ]
  },
  {
   "cell_type": "code",
   "execution_count": null,
   "metadata": {},
   "outputs": [
    {
     "data": {
      "text/plain": [
       "52.999999999999986"
      ]
     },
     "execution_count": 232,
     "metadata": {},
     "output_type": "execute_result"
    }
   ],
   "source": [
    "determinant = np.linalg.det(A)\n",
    "determinant"
   ]
  },
  {
   "cell_type": "code",
   "execution_count": null,
   "metadata": {},
   "outputs": [
    {
     "name": "stdout",
     "output_type": "stream",
     "text": [
      "[[-0.09433962 -0.03773585  0.24528302]\n",
      " [ 0.35849057 -0.05660377 -0.13207547]\n",
      " [ 0.56603774  0.22641509 -0.47169811]]\n"
     ]
    }
   ],
   "source": [
    "inverse = np.linalg.inv(A)\n",
    "print(inverse)"
   ]
  },
  {
   "cell_type": "code",
   "execution_count": null,
   "metadata": {},
   "outputs": [
    {
     "name": "stdout",
     "output_type": "stream",
     "text": [
      "[[-0.09433962 -0.03773585  0.24528302]\n",
      " [ 0.35849057 -0.05660377 -0.13207547]\n",
      " [ 0.56603774  0.22641509 -0.47169811]]\n"
     ]
    }
   ],
   "source": [
    "if np.linalg.det(A) != 0:\n",
    "    #Calculate the inverse\n",
    "    inverse = np.linalg.inv(A)\n",
    "    print(inverse)\n",
    "else: \n",
    "    print(\"Matrix A is not invertible\") "
   ]
  },
  {
   "cell_type": "markdown",
   "metadata": {},
   "source": [
    "# System of Equations "
   ]
  },
  {
   "cell_type": "markdown",
   "metadata": {},
   "source": [
    "$ 3x + 2y + z = 4$\n",
    "\n",
    "$ 5x -5y + 4z = 3$\n",
    "\n",
    "$ 6x +z = 0$"
   ]
  },
  {
   "cell_type": "code",
   "execution_count": null,
   "metadata": {},
   "outputs": [
    {
     "data": {
      "text/plain": [
       "(array([[ 3,  2,  1],\n",
       "        [ 5, -5,  4],\n",
       "        [ 6,  0,  1]]),\n",
       " array([4, 3, 0]))"
      ]
     },
     "execution_count": 227,
     "metadata": {},
     "output_type": "execute_result"
    }
   ],
   "source": [
    "Matrix = np.array([[3, 2, 1], [5, -5, 4], [6, 0, 1]])    \n",
    "c = np.array([4, 3, 0])\n",
    "Matrix, c"
   ]
  },
  {
   "cell_type": "code",
   "execution_count": null,
   "metadata": {},
   "outputs": [
    {
     "data": {
      "text/plain": [
       "array([-0.49056604,  1.26415094,  2.94339623])"
      ]
     },
     "execution_count": 237,
     "metadata": {},
     "output_type": "execute_result"
    }
   ],
   "source": [
    "np.linalg.solve(Matrix, c)"
   ]
  },
  {
   "cell_type": "markdown",
   "metadata": {},
   "source": [
    "$x - 3y + 6z = 21$ \\\n",
    "$3x + 2y - 5z = -30$\\\n",
    "$2x - 5y + 2z = -6$"
   ]
  },
  {
   "cell_type": "code",
   "execution_count": null,
   "metadata": {},
   "outputs": [
    {
     "data": {
      "text/plain": [
       "(array([[ 1, -3,  6],\n",
       "        [ 3,  2, -5],\n",
       "        [ 2, -5,  2]]),\n",
       " array([ 21, -30,  -6]))"
      ]
     },
     "execution_count": 238,
     "metadata": {},
     "output_type": "execute_result"
    }
   ],
   "source": [
    "m = np.array([[1, -3, 6], [3, 2, -5], [2, -5, 2]])\n",
    "C = np.array([21, -30, -6])\n",
    "m, C"
   ]
  },
  {
   "cell_type": "code",
   "execution_count": null,
   "metadata": {},
   "outputs": [
    {
     "data": {
      "text/plain": [
       "array([-3.,  2.,  5.])"
      ]
     },
     "execution_count": 239,
     "metadata": {},
     "output_type": "execute_result"
    }
   ],
   "source": [
    "#Solution \n",
    "np.linalg.solve(m, C)"
   ]
  },
  {
   "cell_type": "markdown",
   "metadata": {},
   "source": [
    "# Finding EigenValues "
   ]
  },
  {
   "cell_type": "code",
   "execution_count": null,
   "metadata": {},
   "outputs": [
    {
     "data": {
      "text/plain": [
       "array([[ 1, -3,  6],\n",
       "       [ 3,  2, -5],\n",
       "       [ 2, -5,  2]])"
      ]
     },
     "execution_count": 240,
     "metadata": {},
     "output_type": "execute_result"
    }
   ],
   "source": [
    "A = np.array([[1, -3, 6], [3, 2, -5], [2, -5, 2]])\n",
    "A"
   ]
  },
  {
   "cell_type": "code",
   "execution_count": null,
   "metadata": {},
   "outputs": [
    {
     "data": {
      "text/plain": [
       "EigResult(eigenvalues=array([-4.31325162,  3.42627369,  5.88697792]), eigenvectors=array([[ 0.34811652, -0.86327751,  0.80015834],\n",
       "       [-0.67808493, -0.21505793, -0.13436012],\n",
       "       [-0.64731424, -0.45662022,  0.58454597]]))"
      ]
     },
     "execution_count": 241,
     "metadata": {},
     "output_type": "execute_result"
    }
   ],
   "source": [
    "np.linalg.eig(A)"
   ]
  },
  {
   "cell_type": "code",
   "execution_count": null,
   "metadata": {},
   "outputs": [
    {
     "data": {
      "text/plain": [
       "(array([-4.31325162,  3.42627369,  5.88697792]),\n",
       " array([[ 0.34811652, -0.86327751,  0.80015834],\n",
       "        [-0.67808493, -0.21505793, -0.13436012],\n",
       "        [-0.64731424, -0.45662022,  0.58454597]]))"
      ]
     },
     "execution_count": 245,
     "metadata": {},
     "output_type": "execute_result"
    }
   ],
   "source": [
    "w, v = np.linalg.eig(A)\n",
    "w, v"
   ]
  },
  {
   "cell_type": "code",
   "execution_count": null,
   "metadata": {},
   "outputs": [
    {
     "data": {
      "text/plain": [
       "array([-2.95782504, -0.73684731, -1.56450583])"
      ]
     },
     "execution_count": 244,
     "metadata": {},
     "output_type": "execute_result"
    }
   ],
   "source": [
    "A@v[:, 1]"
   ]
  },
  {
   "cell_type": "code",
   "execution_count": null,
   "metadata": {},
   "outputs": [
    {
     "data": {
      "text/plain": [
       "array([-2.95782504, -0.73684731, -1.56450583])"
      ]
     },
     "execution_count": 246,
     "metadata": {},
     "output_type": "execute_result"
    }
   ],
   "source": [
    "w[1]*v[:, 1]"
   ]
  },
  {
   "cell_type": "code",
   "execution_count": null,
   "metadata": {},
   "outputs": [
    {
     "data": {
      "text/plain": [
       "EigResult(eigenvalues=array([2., 8., 2.]), eigenvectors=array([[-0.81649658,  0.57735027,  0.50669854],\n",
       "       [ 0.40824829,  0.57735027, -0.80782419],\n",
       "       [ 0.40824829,  0.57735027,  0.30112565]]))"
      ]
     },
     "execution_count": 242,
     "metadata": {},
     "output_type": "execute_result"
    }
   ],
   "source": [
    "B = np.array([[4,2,2],[2,4,2],[2,2,4]])\n",
    "np.linalg.eig(B)"
   ]
  },
  {
   "cell_type": "code",
   "execution_count": null,
   "metadata": {},
   "outputs": [
    {
     "data": {
      "text/plain": [
       "EigResult(eigenvalues=array([ 1., -4.,  3.]), eigenvectors=array([[0.9486833 , 0.4472136 , 0.        ],\n",
       "       [0.31622777, 0.89442719, 0.        ],\n",
       "       [0.        , 0.        , 1.        ]]))"
      ]
     },
     "execution_count": 247,
     "metadata": {},
     "output_type": "execute_result"
    }
   ],
   "source": [
    "e = np.array([[2, -3, 0], [2, -5, 0], [0, 0, 3]])\n",
    "np.linalg.eig(e)"
   ]
  },
  {
   "cell_type": "code",
   "execution_count": 95,
   "metadata": {},
   "outputs": [
    {
     "data": {
      "text/plain": [
       "EigResult(eigenvalues=array([ 3., -1.]), eigenvectors=array([[ 0.4472136 , -0.4472136 ],\n",
       "       [ 0.89442719,  0.89442719]]))"
      ]
     },
     "execution_count": 95,
     "metadata": {},
     "output_type": "execute_result"
    }
   ],
   "source": [
    "e1 = np.array([[1, 1], [4, 1]])\n",
    "np.linalg.eig(e1)"
   ]
  }
 ],
 "metadata": {
  "kernelspec": {
   "display_name": "myenv",
   "language": "python",
   "name": "python3"
  },
  "language_info": {
   "codemirror_mode": {
    "name": "ipython",
    "version": 3
   },
   "file_extension": ".py",
   "mimetype": "text/x-python",
   "name": "python",
   "nbconvert_exporter": "python",
   "pygments_lexer": "ipython3",
   "version": "3.11.8"
  }
 },
 "nbformat": 4,
 "nbformat_minor": 2
}
